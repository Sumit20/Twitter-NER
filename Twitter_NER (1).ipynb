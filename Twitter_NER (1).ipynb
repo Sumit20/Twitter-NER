{
  "cells": [
    {
      "cell_type": "markdown",
      "metadata": {
        "id": "at3FQVEi0F-w"
      },
      "source": [
        "# Problem statement\n",
        "\n",
        "*Context*: Twitter is a microblogging and social networking service on which users post and interact with messages known as \"tweets\". Every second, on average, around 6,000 tweets are tweeted on Twitter, corresponding to over 350,000 tweets sent per minute, 500 million tweets per day.\n",
        "Twitter wants to automatically tag and analyze tweets for better understanding of the trends and topics without being dependent on the hashtags that the users use. Many users do not use hashtags or sometimes use wrong or mis-spelled tags, so they want to completely remove this problem and create a system of recognizing important content of the tweets.\n",
        "\n",
        "*Objective*: You need to train a model that will be able to identify the various named entities.\n"
      ]
    },
    {
      "cell_type": "markdown",
      "metadata": {
        "id": "MSl9ZJz2z_tW"
      },
      "source": [
        "## Downloading data"
      ]
    },
    {
      "cell_type": "markdown",
      "metadata": {
        "id": "CTg2TR-b0DFT"
      },
      "source": [
        "## Installing libraries"
      ]
    },
    {
      "cell_type": "code",
      "execution_count": 2,
      "metadata": {
        "colab": {
          "base_uri": "https://localhost:8080/",
          "height": 1000
        },
        "id": "AUAWW6bSiGpI",
        "outputId": "63766a00-701d-4fea-e7d7-54832a0e5b74"
      },
      "outputs": [
        {
          "output_type": "stream",
          "name": "stdout",
          "text": [
            "Collecting datasets\n",
            "  Downloading datasets-2.20.0-py3-none-any.whl.metadata (19 kB)\n",
            "Requirement already satisfied: filelock in /usr/local/lib/python3.10/dist-packages (from datasets) (3.15.4)\n",
            "Requirement already satisfied: numpy>=1.17 in /usr/local/lib/python3.10/dist-packages (from datasets) (1.26.4)\n",
            "Collecting pyarrow>=15.0.0 (from datasets)\n",
            "  Downloading pyarrow-17.0.0-cp310-cp310-manylinux_2_28_x86_64.whl.metadata (3.3 kB)\n",
            "Requirement already satisfied: pyarrow-hotfix in /usr/local/lib/python3.10/dist-packages (from datasets) (0.6)\n",
            "Collecting dill<0.3.9,>=0.3.0 (from datasets)\n",
            "  Downloading dill-0.3.8-py3-none-any.whl.metadata (10 kB)\n",
            "Requirement already satisfied: pandas in /usr/local/lib/python3.10/dist-packages (from datasets) (2.1.4)\n",
            "Collecting requests>=2.32.2 (from datasets)\n",
            "  Downloading requests-2.32.3-py3-none-any.whl.metadata (4.6 kB)\n",
            "Requirement already satisfied: tqdm>=4.66.3 in /usr/local/lib/python3.10/dist-packages (from datasets) (4.66.4)\n",
            "Collecting xxhash (from datasets)\n",
            "  Downloading xxhash-3.4.1-cp310-cp310-manylinux_2_17_x86_64.manylinux2014_x86_64.whl.metadata (12 kB)\n",
            "Collecting multiprocess (from datasets)\n",
            "  Downloading multiprocess-0.70.16-py310-none-any.whl.metadata (7.2 kB)\n",
            "Collecting fsspec<=2024.5.0,>=2023.1.0 (from fsspec[http]<=2024.5.0,>=2023.1.0->datasets)\n",
            "  Downloading fsspec-2024.5.0-py3-none-any.whl.metadata (11 kB)\n",
            "Requirement already satisfied: aiohttp in /usr/local/lib/python3.10/dist-packages (from datasets) (3.9.5)\n",
            "Requirement already satisfied: huggingface-hub>=0.21.2 in /usr/local/lib/python3.10/dist-packages (from datasets) (0.23.5)\n",
            "Requirement already satisfied: packaging in /usr/local/lib/python3.10/dist-packages (from datasets) (24.1)\n",
            "Requirement already satisfied: pyyaml>=5.1 in /usr/local/lib/python3.10/dist-packages (from datasets) (6.0.1)\n",
            "Requirement already satisfied: aiosignal>=1.1.2 in /usr/local/lib/python3.10/dist-packages (from aiohttp->datasets) (1.3.1)\n",
            "Requirement already satisfied: attrs>=17.3.0 in /usr/local/lib/python3.10/dist-packages (from aiohttp->datasets) (23.2.0)\n",
            "Requirement already satisfied: frozenlist>=1.1.1 in /usr/local/lib/python3.10/dist-packages (from aiohttp->datasets) (1.4.1)\n",
            "Requirement already satisfied: multidict<7.0,>=4.5 in /usr/local/lib/python3.10/dist-packages (from aiohttp->datasets) (6.0.5)\n",
            "Requirement already satisfied: yarl<2.0,>=1.0 in /usr/local/lib/python3.10/dist-packages (from aiohttp->datasets) (1.9.4)\n",
            "Requirement already satisfied: async-timeout<5.0,>=4.0 in /usr/local/lib/python3.10/dist-packages (from aiohttp->datasets) (4.0.3)\n",
            "Requirement already satisfied: typing-extensions>=3.7.4.3 in /usr/local/lib/python3.10/dist-packages (from huggingface-hub>=0.21.2->datasets) (4.12.2)\n",
            "Requirement already satisfied: charset-normalizer<4,>=2 in /usr/local/lib/python3.10/dist-packages (from requests>=2.32.2->datasets) (3.3.2)\n",
            "Requirement already satisfied: idna<4,>=2.5 in /usr/local/lib/python3.10/dist-packages (from requests>=2.32.2->datasets) (3.7)\n",
            "Requirement already satisfied: urllib3<3,>=1.21.1 in /usr/local/lib/python3.10/dist-packages (from requests>=2.32.2->datasets) (2.0.7)\n",
            "Requirement already satisfied: certifi>=2017.4.17 in /usr/local/lib/python3.10/dist-packages (from requests>=2.32.2->datasets) (2024.7.4)\n",
            "Requirement already satisfied: python-dateutil>=2.8.2 in /usr/local/lib/python3.10/dist-packages (from pandas->datasets) (2.8.2)\n",
            "Requirement already satisfied: pytz>=2020.1 in /usr/local/lib/python3.10/dist-packages (from pandas->datasets) (2024.1)\n",
            "Requirement already satisfied: tzdata>=2022.1 in /usr/local/lib/python3.10/dist-packages (from pandas->datasets) (2024.1)\n",
            "Requirement already satisfied: six>=1.5 in /usr/local/lib/python3.10/dist-packages (from python-dateutil>=2.8.2->pandas->datasets) (1.16.0)\n",
            "Downloading datasets-2.20.0-py3-none-any.whl (547 kB)\n",
            "\u001b[2K   \u001b[90m━━━━━━━━━━━━━━━━━━━━━━━━━━━━━━━━━━━━━━━━\u001b[0m \u001b[32m547.8/547.8 kB\u001b[0m \u001b[31m15.0 MB/s\u001b[0m eta \u001b[36m0:00:00\u001b[0m\n",
            "\u001b[?25hDownloading dill-0.3.8-py3-none-any.whl (116 kB)\n",
            "\u001b[2K   \u001b[90m━━━━━━━━━━━━━━━━━━━━━━━━━━━━━━━━━━━━━━━━\u001b[0m \u001b[32m116.3/116.3 kB\u001b[0m \u001b[31m9.3 MB/s\u001b[0m eta \u001b[36m0:00:00\u001b[0m\n",
            "\u001b[?25hDownloading fsspec-2024.5.0-py3-none-any.whl (316 kB)\n",
            "\u001b[2K   \u001b[90m━━━━━━━━━━━━━━━━━━━━━━━━━━━━━━━━━━━━━━━━\u001b[0m \u001b[32m316.1/316.1 kB\u001b[0m \u001b[31m19.8 MB/s\u001b[0m eta \u001b[36m0:00:00\u001b[0m\n",
            "\u001b[?25hDownloading pyarrow-17.0.0-cp310-cp310-manylinux_2_28_x86_64.whl (39.9 MB)\n",
            "\u001b[2K   \u001b[90m━━━━━━━━━━━━━━━━━━━━━━━━━━━━━━━━━━━━━━━━\u001b[0m \u001b[32m39.9/39.9 MB\u001b[0m \u001b[31m16.9 MB/s\u001b[0m eta \u001b[36m0:00:00\u001b[0m\n",
            "\u001b[?25hDownloading requests-2.32.3-py3-none-any.whl (64 kB)\n",
            "\u001b[2K   \u001b[90m━━━━━━━━━━━━━━━━━━━━━━━━━━━━━━━━━━━━━━━━\u001b[0m \u001b[32m64.9/64.9 kB\u001b[0m \u001b[31m4.2 MB/s\u001b[0m eta \u001b[36m0:00:00\u001b[0m\n",
            "\u001b[?25hDownloading multiprocess-0.70.16-py310-none-any.whl (134 kB)\n",
            "\u001b[2K   \u001b[90m━━━━━━━━━━━━━━━━━━━━━━━━━━━━━━━━━━━━━━━━\u001b[0m \u001b[32m134.8/134.8 kB\u001b[0m \u001b[31m9.5 MB/s\u001b[0m eta \u001b[36m0:00:00\u001b[0m\n",
            "\u001b[?25hDownloading xxhash-3.4.1-cp310-cp310-manylinux_2_17_x86_64.manylinux2014_x86_64.whl (194 kB)\n",
            "\u001b[2K   \u001b[90m━━━━━━━━━━━━━━━━━━━━━━━━━━━━━━━━━━━━━━━━\u001b[0m \u001b[32m194.1/194.1 kB\u001b[0m \u001b[31m12.5 MB/s\u001b[0m eta \u001b[36m0:00:00\u001b[0m\n",
            "\u001b[?25hInstalling collected packages: xxhash, requests, pyarrow, fsspec, dill, multiprocess, datasets\n",
            "  Attempting uninstall: requests\n",
            "    Found existing installation: requests 2.31.0\n",
            "    Uninstalling requests-2.31.0:\n",
            "      Successfully uninstalled requests-2.31.0\n",
            "  Attempting uninstall: pyarrow\n",
            "    Found existing installation: pyarrow 14.0.2\n",
            "    Uninstalling pyarrow-14.0.2:\n",
            "      Successfully uninstalled pyarrow-14.0.2\n",
            "  Attempting uninstall: fsspec\n",
            "    Found existing installation: fsspec 2024.6.1\n",
            "    Uninstalling fsspec-2024.6.1:\n",
            "      Successfully uninstalled fsspec-2024.6.1\n",
            "\u001b[31mERROR: pip's dependency resolver does not currently take into account all the packages that are installed. This behaviour is the source of the following dependency conflicts.\n",
            "torch 2.3.1+cu121 requires nvidia-cublas-cu12==12.1.3.1; platform_system == \"Linux\" and platform_machine == \"x86_64\", which is not installed.\n",
            "torch 2.3.1+cu121 requires nvidia-cuda-cupti-cu12==12.1.105; platform_system == \"Linux\" and platform_machine == \"x86_64\", which is not installed.\n",
            "torch 2.3.1+cu121 requires nvidia-cuda-nvrtc-cu12==12.1.105; platform_system == \"Linux\" and platform_machine == \"x86_64\", which is not installed.\n",
            "torch 2.3.1+cu121 requires nvidia-cuda-runtime-cu12==12.1.105; platform_system == \"Linux\" and platform_machine == \"x86_64\", which is not installed.\n",
            "torch 2.3.1+cu121 requires nvidia-cudnn-cu12==8.9.2.26; platform_system == \"Linux\" and platform_machine == \"x86_64\", which is not installed.\n",
            "torch 2.3.1+cu121 requires nvidia-cufft-cu12==11.0.2.54; platform_system == \"Linux\" and platform_machine == \"x86_64\", which is not installed.\n",
            "torch 2.3.1+cu121 requires nvidia-curand-cu12==10.3.2.106; platform_system == \"Linux\" and platform_machine == \"x86_64\", which is not installed.\n",
            "torch 2.3.1+cu121 requires nvidia-cusolver-cu12==11.4.5.107; platform_system == \"Linux\" and platform_machine == \"x86_64\", which is not installed.\n",
            "torch 2.3.1+cu121 requires nvidia-cusparse-cu12==12.1.0.106; platform_system == \"Linux\" and platform_machine == \"x86_64\", which is not installed.\n",
            "torch 2.3.1+cu121 requires nvidia-nccl-cu12==2.20.5; platform_system == \"Linux\" and platform_machine == \"x86_64\", which is not installed.\n",
            "torch 2.3.1+cu121 requires nvidia-nvtx-cu12==12.1.105; platform_system == \"Linux\" and platform_machine == \"x86_64\", which is not installed.\n",
            "cudf-cu12 24.4.1 requires pyarrow<15.0.0a0,>=14.0.1, but you have pyarrow 17.0.0 which is incompatible.\n",
            "gcsfs 2024.6.1 requires fsspec==2024.6.1, but you have fsspec 2024.5.0 which is incompatible.\n",
            "google-colab 1.0.0 requires requests==2.31.0, but you have requests 2.32.3 which is incompatible.\n",
            "ibis-framework 8.0.0 requires pyarrow<16,>=2, but you have pyarrow 17.0.0 which is incompatible.\u001b[0m\u001b[31m\n",
            "\u001b[0mSuccessfully installed datasets-2.20.0 dill-0.3.8 fsspec-2024.5.0 multiprocess-0.70.16 pyarrow-17.0.0 requests-2.32.3 xxhash-3.4.1\n",
            "Collecting tensorflow==2.9.0\n",
            "  Downloading tensorflow-2.9.0-cp310-cp310-manylinux_2_17_x86_64.manylinux2014_x86_64.whl.metadata (3.0 kB)\n",
            "Requirement already satisfied: absl-py>=1.0.0 in /usr/local/lib/python3.10/dist-packages (from tensorflow==2.9.0) (1.4.0)\n",
            "Requirement already satisfied: astunparse>=1.6.0 in /usr/local/lib/python3.10/dist-packages (from tensorflow==2.9.0) (1.6.3)\n",
            "Collecting flatbuffers<2,>=1.12 (from tensorflow==2.9.0)\n",
            "  Downloading flatbuffers-1.12-py2.py3-none-any.whl.metadata (872 bytes)\n",
            "Collecting gast<=0.4.0,>=0.2.1 (from tensorflow==2.9.0)\n",
            "  Downloading gast-0.4.0-py3-none-any.whl.metadata (1.1 kB)\n",
            "Requirement already satisfied: google-pasta>=0.1.1 in /usr/local/lib/python3.10/dist-packages (from tensorflow==2.9.0) (0.2.0)\n",
            "Requirement already satisfied: grpcio<2.0,>=1.24.3 in /usr/local/lib/python3.10/dist-packages (from tensorflow==2.9.0) (1.64.1)\n",
            "Requirement already satisfied: h5py>=2.9.0 in /usr/local/lib/python3.10/dist-packages (from tensorflow==2.9.0) (3.11.0)\n",
            "Collecting keras<2.10.0,>=2.9.0rc0 (from tensorflow==2.9.0)\n",
            "  Downloading keras-2.9.0-py2.py3-none-any.whl.metadata (1.3 kB)\n",
            "Collecting keras-preprocessing>=1.1.1 (from tensorflow==2.9.0)\n",
            "  Downloading Keras_Preprocessing-1.1.2-py2.py3-none-any.whl.metadata (1.9 kB)\n",
            "Requirement already satisfied: libclang>=13.0.0 in /usr/local/lib/python3.10/dist-packages (from tensorflow==2.9.0) (18.1.1)\n",
            "Requirement already satisfied: numpy>=1.20 in /usr/local/lib/python3.10/dist-packages (from tensorflow==2.9.0) (1.26.4)\n",
            "Requirement already satisfied: opt-einsum>=2.3.2 in /usr/local/lib/python3.10/dist-packages (from tensorflow==2.9.0) (3.3.0)\n",
            "Requirement already satisfied: packaging in /usr/local/lib/python3.10/dist-packages (from tensorflow==2.9.0) (24.1)\n",
            "Requirement already satisfied: protobuf>=3.9.2 in /usr/local/lib/python3.10/dist-packages (from tensorflow==2.9.0) (3.20.3)\n",
            "Requirement already satisfied: setuptools in /usr/local/lib/python3.10/dist-packages (from tensorflow==2.9.0) (71.0.4)\n",
            "Requirement already satisfied: six>=1.12.0 in /usr/local/lib/python3.10/dist-packages (from tensorflow==2.9.0) (1.16.0)\n",
            "Collecting tensorboard<2.10,>=2.9 (from tensorflow==2.9.0)\n",
            "  Downloading tensorboard-2.9.1-py3-none-any.whl.metadata (1.9 kB)\n",
            "Requirement already satisfied: tensorflow-io-gcs-filesystem>=0.23.1 in /usr/local/lib/python3.10/dist-packages (from tensorflow==2.9.0) (0.37.1)\n",
            "Collecting tensorflow-estimator<2.10.0,>=2.9.0rc0 (from tensorflow==2.9.0)\n",
            "  Downloading tensorflow_estimator-2.9.0-py2.py3-none-any.whl.metadata (1.3 kB)\n",
            "Requirement already satisfied: termcolor>=1.1.0 in /usr/local/lib/python3.10/dist-packages (from tensorflow==2.9.0) (2.4.0)\n",
            "Requirement already satisfied: typing-extensions>=3.6.6 in /usr/local/lib/python3.10/dist-packages (from tensorflow==2.9.0) (4.12.2)\n",
            "Requirement already satisfied: wrapt>=1.11.0 in /usr/local/lib/python3.10/dist-packages (from tensorflow==2.9.0) (1.16.0)\n",
            "Requirement already satisfied: wheel<1.0,>=0.23.0 in /usr/local/lib/python3.10/dist-packages (from astunparse>=1.6.0->tensorflow==2.9.0) (0.43.0)\n",
            "Requirement already satisfied: google-auth<3,>=1.6.3 in /usr/local/lib/python3.10/dist-packages (from tensorboard<2.10,>=2.9->tensorflow==2.9.0) (2.27.0)\n",
            "Collecting google-auth-oauthlib<0.5,>=0.4.1 (from tensorboard<2.10,>=2.9->tensorflow==2.9.0)\n",
            "  Downloading google_auth_oauthlib-0.4.6-py2.py3-none-any.whl.metadata (2.7 kB)\n",
            "Requirement already satisfied: markdown>=2.6.8 in /usr/local/lib/python3.10/dist-packages (from tensorboard<2.10,>=2.9->tensorflow==2.9.0) (3.6)\n",
            "Collecting protobuf>=3.9.2 (from tensorflow==2.9.0)\n",
            "  Downloading protobuf-3.19.6-cp310-cp310-manylinux_2_17_x86_64.manylinux2014_x86_64.whl.metadata (787 bytes)\n",
            "Requirement already satisfied: requests<3,>=2.21.0 in /usr/local/lib/python3.10/dist-packages (from tensorboard<2.10,>=2.9->tensorflow==2.9.0) (2.32.3)\n",
            "Collecting tensorboard-data-server<0.7.0,>=0.6.0 (from tensorboard<2.10,>=2.9->tensorflow==2.9.0)\n",
            "  Downloading tensorboard_data_server-0.6.1-py3-none-manylinux2010_x86_64.whl.metadata (1.1 kB)\n",
            "Collecting tensorboard-plugin-wit>=1.6.0 (from tensorboard<2.10,>=2.9->tensorflow==2.9.0)\n",
            "  Downloading tensorboard_plugin_wit-1.8.1-py3-none-any.whl.metadata (873 bytes)\n",
            "Requirement already satisfied: werkzeug>=1.0.1 in /usr/local/lib/python3.10/dist-packages (from tensorboard<2.10,>=2.9->tensorflow==2.9.0) (3.0.3)\n",
            "Requirement already satisfied: cachetools<6.0,>=2.0.0 in /usr/local/lib/python3.10/dist-packages (from google-auth<3,>=1.6.3->tensorboard<2.10,>=2.9->tensorflow==2.9.0) (5.4.0)\n",
            "Requirement already satisfied: pyasn1-modules>=0.2.1 in /usr/local/lib/python3.10/dist-packages (from google-auth<3,>=1.6.3->tensorboard<2.10,>=2.9->tensorflow==2.9.0) (0.4.0)\n",
            "Requirement already satisfied: rsa<5,>=3.1.4 in /usr/local/lib/python3.10/dist-packages (from google-auth<3,>=1.6.3->tensorboard<2.10,>=2.9->tensorflow==2.9.0) (4.9)\n",
            "Requirement already satisfied: requests-oauthlib>=0.7.0 in /usr/local/lib/python3.10/dist-packages (from google-auth-oauthlib<0.5,>=0.4.1->tensorboard<2.10,>=2.9->tensorflow==2.9.0) (1.3.1)\n",
            "Requirement already satisfied: charset-normalizer<4,>=2 in /usr/local/lib/python3.10/dist-packages (from requests<3,>=2.21.0->tensorboard<2.10,>=2.9->tensorflow==2.9.0) (3.3.2)\n",
            "Requirement already satisfied: idna<4,>=2.5 in /usr/local/lib/python3.10/dist-packages (from requests<3,>=2.21.0->tensorboard<2.10,>=2.9->tensorflow==2.9.0) (3.7)\n",
            "Requirement already satisfied: urllib3<3,>=1.21.1 in /usr/local/lib/python3.10/dist-packages (from requests<3,>=2.21.0->tensorboard<2.10,>=2.9->tensorflow==2.9.0) (2.0.7)\n",
            "Requirement already satisfied: certifi>=2017.4.17 in /usr/local/lib/python3.10/dist-packages (from requests<3,>=2.21.0->tensorboard<2.10,>=2.9->tensorflow==2.9.0) (2024.7.4)\n",
            "Requirement already satisfied: MarkupSafe>=2.1.1 in /usr/local/lib/python3.10/dist-packages (from werkzeug>=1.0.1->tensorboard<2.10,>=2.9->tensorflow==2.9.0) (2.1.5)\n",
            "Requirement already satisfied: pyasn1<0.7.0,>=0.4.6 in /usr/local/lib/python3.10/dist-packages (from pyasn1-modules>=0.2.1->google-auth<3,>=1.6.3->tensorboard<2.10,>=2.9->tensorflow==2.9.0) (0.6.0)\n",
            "Requirement already satisfied: oauthlib>=3.0.0 in /usr/local/lib/python3.10/dist-packages (from requests-oauthlib>=0.7.0->google-auth-oauthlib<0.5,>=0.4.1->tensorboard<2.10,>=2.9->tensorflow==2.9.0) (3.2.2)\n",
            "Downloading tensorflow-2.9.0-cp310-cp310-manylinux_2_17_x86_64.manylinux2014_x86_64.whl (511.7 MB)\n",
            "\u001b[2K   \u001b[90m━━━━━━━━━━━━━━━━━━━━━━━━━━━━━━━━━━━━━━━━\u001b[0m \u001b[32m511.7/511.7 MB\u001b[0m \u001b[31m3.5 MB/s\u001b[0m eta \u001b[36m0:00:00\u001b[0m\n",
            "\u001b[?25hDownloading flatbuffers-1.12-py2.py3-none-any.whl (15 kB)\n",
            "Downloading gast-0.4.0-py3-none-any.whl (9.8 kB)\n",
            "Downloading keras-2.9.0-py2.py3-none-any.whl (1.6 MB)\n",
            "\u001b[2K   \u001b[90m━━━━━━━━━━━━━━━━━━━━━━━━━━━━━━━━━━━━━━━━\u001b[0m \u001b[32m1.6/1.6 MB\u001b[0m \u001b[31m42.9 MB/s\u001b[0m eta \u001b[36m0:00:00\u001b[0m\n",
            "\u001b[?25hDownloading Keras_Preprocessing-1.1.2-py2.py3-none-any.whl (42 kB)\n",
            "\u001b[2K   \u001b[90m━━━━━━━━━━━━━━━━━━━━━━━━━━━━━━━━━━━━━━━━\u001b[0m \u001b[32m42.6/42.6 kB\u001b[0m \u001b[31m2.5 MB/s\u001b[0m eta \u001b[36m0:00:00\u001b[0m\n",
            "\u001b[?25hDownloading tensorboard-2.9.1-py3-none-any.whl (5.8 MB)\n",
            "\u001b[2K   \u001b[90m━━━━━━━━━━━━━━━━━━━━━━━━━━━━━━━━━━━━━━━━\u001b[0m \u001b[32m5.8/5.8 MB\u001b[0m \u001b[31m64.0 MB/s\u001b[0m eta \u001b[36m0:00:00\u001b[0m\n",
            "\u001b[?25hDownloading protobuf-3.19.6-cp310-cp310-manylinux_2_17_x86_64.manylinux2014_x86_64.whl (1.1 MB)\n",
            "\u001b[2K   \u001b[90m━━━━━━━━━━━━━━━━━━━━━━━━━━━━━━━━━━━━━━━━\u001b[0m \u001b[32m1.1/1.1 MB\u001b[0m \u001b[31m39.4 MB/s\u001b[0m eta \u001b[36m0:00:00\u001b[0m\n",
            "\u001b[?25hDownloading tensorflow_estimator-2.9.0-py2.py3-none-any.whl (438 kB)\n",
            "\u001b[2K   \u001b[90m━━━━━━━━━━━━━━━━━━━━━━━━━━━━━━━━━━━━━━━━\u001b[0m \u001b[32m438.7/438.7 kB\u001b[0m \u001b[31m22.5 MB/s\u001b[0m eta \u001b[36m0:00:00\u001b[0m\n",
            "\u001b[?25hDownloading google_auth_oauthlib-0.4.6-py2.py3-none-any.whl (18 kB)\n",
            "Downloading tensorboard_data_server-0.6.1-py3-none-manylinux2010_x86_64.whl (4.9 MB)\n",
            "\u001b[2K   \u001b[90m━━━━━━━━━━━━━━━━━━━━━━━━━━━━━━━━━━━━━━━━\u001b[0m \u001b[32m4.9/4.9 MB\u001b[0m \u001b[31m65.7 MB/s\u001b[0m eta \u001b[36m0:00:00\u001b[0m\n",
            "\u001b[?25hDownloading tensorboard_plugin_wit-1.8.1-py3-none-any.whl (781 kB)\n",
            "\u001b[2K   \u001b[90m━━━━━━━━━━━━━━━━━━━━━━━━━━━━━━━━━━━━━━━━\u001b[0m \u001b[32m781.3/781.3 kB\u001b[0m \u001b[31m37.0 MB/s\u001b[0m eta \u001b[36m0:00:00\u001b[0m\n",
            "\u001b[?25hInstalling collected packages: tensorboard-plugin-wit, keras, flatbuffers, tensorflow-estimator, tensorboard-data-server, protobuf, keras-preprocessing, gast, google-auth-oauthlib, tensorboard, tensorflow\n",
            "  Attempting uninstall: keras\n",
            "    Found existing installation: keras 3.4.1\n",
            "    Uninstalling keras-3.4.1:\n",
            "      Successfully uninstalled keras-3.4.1\n",
            "  Attempting uninstall: flatbuffers\n",
            "    Found existing installation: flatbuffers 24.3.25\n",
            "    Uninstalling flatbuffers-24.3.25:\n",
            "      Successfully uninstalled flatbuffers-24.3.25\n",
            "  Attempting uninstall: tensorboard-data-server\n",
            "    Found existing installation: tensorboard-data-server 0.7.2\n",
            "    Uninstalling tensorboard-data-server-0.7.2:\n",
            "      Successfully uninstalled tensorboard-data-server-0.7.2\n",
            "  Attempting uninstall: protobuf\n",
            "    Found existing installation: protobuf 3.20.3\n",
            "    Uninstalling protobuf-3.20.3:\n",
            "      Successfully uninstalled protobuf-3.20.3\n",
            "  Attempting uninstall: gast\n",
            "    Found existing installation: gast 0.6.0\n",
            "    Uninstalling gast-0.6.0:\n",
            "      Successfully uninstalled gast-0.6.0\n",
            "  Attempting uninstall: google-auth-oauthlib\n",
            "    Found existing installation: google-auth-oauthlib 1.2.1\n",
            "    Uninstalling google-auth-oauthlib-1.2.1:\n",
            "      Successfully uninstalled google-auth-oauthlib-1.2.1\n",
            "  Attempting uninstall: tensorboard\n",
            "    Found existing installation: tensorboard 2.17.0\n",
            "    Uninstalling tensorboard-2.17.0:\n",
            "      Successfully uninstalled tensorboard-2.17.0\n",
            "  Attempting uninstall: tensorflow\n",
            "    Found existing installation: tensorflow 2.17.0\n",
            "    Uninstalling tensorflow-2.17.0:\n",
            "      Successfully uninstalled tensorflow-2.17.0\n",
            "\u001b[31mERROR: pip's dependency resolver does not currently take into account all the packages that are installed. This behaviour is the source of the following dependency conflicts.\n",
            "cudf-cu12 24.4.1 requires protobuf<5,>=3.20, but you have protobuf 3.19.6 which is incompatible.\n",
            "cudf-cu12 24.4.1 requires pyarrow<15.0.0a0,>=14.0.1, but you have pyarrow 17.0.0 which is incompatible.\n",
            "gcsfs 2024.6.1 requires fsspec==2024.6.1, but you have fsspec 2024.5.0 which is incompatible.\n",
            "google-cloud-bigquery-connection 1.15.4 requires protobuf!=4.21.0,!=4.21.1,!=4.21.2,!=4.21.3,!=4.21.4,!=4.21.5,<6.0.0dev,>=3.20.2, but you have protobuf 3.19.6 which is incompatible.\n",
            "google-cloud-bigtable 2.25.0 requires protobuf!=4.21.0,!=4.21.1,!=4.21.2,!=4.21.3,!=4.21.4,!=4.21.5,<6.0.0dev,>=3.20.2, but you have protobuf 3.19.6 which is incompatible.\n",
            "google-cloud-functions 1.16.4 requires protobuf!=4.21.0,!=4.21.1,!=4.21.2,!=4.21.3,!=4.21.4,!=4.21.5,<6.0.0dev,>=3.20.2, but you have protobuf 3.19.6 which is incompatible.\n",
            "google-cloud-iam 2.15.1 requires protobuf!=4.21.0,!=4.21.1,!=4.21.2,!=4.21.3,!=4.21.4,!=4.21.5,<6.0.0dev,>=3.20.2, but you have protobuf 3.19.6 which is incompatible.\n",
            "google-cloud-language 2.13.4 requires protobuf!=4.21.0,!=4.21.1,!=4.21.2,!=4.21.3,!=4.21.4,!=4.21.5,<6.0.0dev,>=3.20.2, but you have protobuf 3.19.6 which is incompatible.\n",
            "google-cloud-pubsub 2.23.0 requires protobuf!=4.21.0,!=4.21.1,!=4.21.2,!=4.21.3,!=4.21.4,!=4.21.5,<6.0.0dev,>=3.20.2, but you have protobuf 3.19.6 which is incompatible.\n",
            "google-cloud-resource-manager 1.12.4 requires protobuf!=4.21.0,!=4.21.1,!=4.21.2,!=4.21.3,!=4.21.4,!=4.21.5,<6.0.0dev,>=3.20.2, but you have protobuf 3.19.6 which is incompatible.\n",
            "google-cloud-translate 3.15.4 requires protobuf!=4.21.0,!=4.21.1,!=4.21.2,!=4.21.3,!=4.21.4,!=4.21.5,<6.0.0dev,>=3.20.2, but you have protobuf 3.19.6 which is incompatible.\n",
            "googleapis-common-protos 1.63.2 requires protobuf!=3.20.0,!=3.20.1,!=4.21.1,!=4.21.2,!=4.21.3,!=4.21.4,!=4.21.5,<6.0.0.dev0,>=3.20.2, but you have protobuf 3.19.6 which is incompatible.\n",
            "grpc-google-iam-v1 0.13.1 requires protobuf!=4.21.1,!=4.21.2,!=4.21.3,!=4.21.4,!=4.21.5,<6.0.0dev,>=3.20.2, but you have protobuf 3.19.6 which is incompatible.\n",
            "pandas-gbq 0.19.2 requires google-auth-oauthlib>=0.7.0, but you have google-auth-oauthlib 0.4.6 which is incompatible.\n",
            "tensorflow-datasets 4.9.6 requires protobuf>=3.20, but you have protobuf 3.19.6 which is incompatible.\n",
            "tensorflow-metadata 1.15.0 requires protobuf<4.21,>=3.20.3; python_version < \"3.11\", but you have protobuf 3.19.6 which is incompatible.\n",
            "tf-keras 2.17.0 requires tensorflow<2.18,>=2.17, but you have tensorflow 2.9.0 which is incompatible.\u001b[0m\u001b[31m\n",
            "\u001b[0mSuccessfully installed flatbuffers-1.12 gast-0.4.0 google-auth-oauthlib-0.4.6 keras-2.9.0 keras-preprocessing-1.1.2 protobuf-3.19.6 tensorboard-2.9.1 tensorboard-data-server-0.6.1 tensorboard-plugin-wit-1.8.1 tensorflow-2.9.0 tensorflow-estimator-2.9.0\n"
          ]
        },
        {
          "output_type": "display_data",
          "data": {
            "application/vnd.colab-display-data+json": {
              "pip_warning": {
                "packages": [
                  "google"
                ]
              },
              "id": "39fa2625399346fc93e3169b3165a601"
            }
          },
          "metadata": {}
        },
        {
          "output_type": "stream",
          "name": "stdout",
          "text": [
            "Collecting tensorflow-addons==0.19.0\n",
            "  Downloading tensorflow_addons-0.19.0-cp310-cp310-manylinux_2_17_x86_64.manylinux2014_x86_64.whl.metadata (1.8 kB)\n",
            "Requirement already satisfied: packaging in /usr/local/lib/python3.10/dist-packages (from tensorflow-addons==0.19.0) (24.1)\n",
            "Requirement already satisfied: typeguard>=2.7 in /usr/local/lib/python3.10/dist-packages (from tensorflow-addons==0.19.0) (4.3.0)\n",
            "Requirement already satisfied: typing-extensions>=4.10.0 in /usr/local/lib/python3.10/dist-packages (from typeguard>=2.7->tensorflow-addons==0.19.0) (4.12.2)\n",
            "Downloading tensorflow_addons-0.19.0-cp310-cp310-manylinux_2_17_x86_64.manylinux2014_x86_64.whl (1.1 MB)\n",
            "\u001b[?25l   \u001b[90m━━━━━━━━━━━━━━━━━━━━━━━━━━━━━━━━━━━━━━━━\u001b[0m \u001b[32m0.0/1.1 MB\u001b[0m \u001b[31m?\u001b[0m eta \u001b[36m-:--:--\u001b[0m\r\u001b[2K   \u001b[91m━━━━━━━━━━━━━━━━━\u001b[0m\u001b[91m╸\u001b[0m\u001b[90m━━━━━━━━━━━━━━━━━━━━━━\u001b[0m \u001b[32m0.5/1.1 MB\u001b[0m \u001b[31m15.1 MB/s\u001b[0m eta \u001b[36m0:00:01\u001b[0m\r\u001b[2K   \u001b[90m━━━━━━━━━━━━━━━━━━━━━━━━━━━━━━━━━━━━━━━━\u001b[0m \u001b[32m1.1/1.1 MB\u001b[0m \u001b[31m17.6 MB/s\u001b[0m eta \u001b[36m0:00:00\u001b[0m\n",
            "\u001b[?25hInstalling collected packages: tensorflow-addons\n",
            "Successfully installed tensorflow-addons-0.19.0\n"
          ]
        }
      ],
      "source": [
        "%pip install datasets\n",
        "\n",
        "!pip install tensorflow==2.9.0\n",
        "!pip install tensorflow-addons==0.19.0"
      ]
    },
    {
      "cell_type": "code",
      "execution_count": 1,
      "metadata": {
        "id": "wg5Yfb9P0L46"
      },
      "outputs": [],
      "source": [
        "import pandas as pd\n",
        "import tensorflow as tf"
      ]
    },
    {
      "cell_type": "markdown",
      "metadata": {
        "id": "hobF9tNHjZSc"
      },
      "source": [
        "## Loading data from the files"
      ]
    },
    {
      "cell_type": "code",
      "execution_count": 2,
      "metadata": {
        "id": "-MzsPIKwkB-t"
      },
      "outputs": [],
      "source": [
        "def load_data(filename: str):\n",
        "  # Conll file is stored as (token, tag) pairs, one per line\n",
        "  # Extracting data from conll files\n",
        "  with open(filename, 'r',encoding='utf-8') as file:\n",
        "    lines = [line[:-1].split() for line in file] # Skipping last line as it will be a blank space\n",
        "  samples, start = [], 0\n",
        "  for end, parts in enumerate(lines):\n",
        "      if not parts:\n",
        "          sample = [(token, tag)\n",
        "                      for token, tag in lines[start:end]]\n",
        "          samples.append(sample)\n",
        "          start = end + 1\n",
        "  if start < end:\n",
        "    samples.append(lines[start:end])\n",
        "  return samples\n",
        "\n",
        "train_samples = load_data('wnut 16.txt.conll')\n",
        "test_samples = load_data('wnut 16test.txt.conll')\n",
        "samples = train_samples + test_samples\n",
        "schema = ['_'] + sorted({tag for sentence in samples\n",
        "                             for _, tag in sentence}) # '_' is used to indicate a null (blank) token."
      ]
    },
    {
      "cell_type": "markdown",
      "metadata": {
        "id": "I0rw_3r5jhuI"
      },
      "source": [
        "## Structure of data"
      ]
    },
    {
      "cell_type": "code",
      "execution_count": 3,
      "metadata": {
        "colab": {
          "base_uri": "https://localhost:8080/"
        },
        "id": "LYuLVDagmRL5",
        "outputId": "d44ab175-bdad-4d32-f483-8591c63ad731"
      },
      "outputs": [
        {
          "output_type": "execute_result",
          "data": {
            "text/plain": [
              "[('Made', 'O'),\n",
              " ('it', 'O'),\n",
              " ('back', 'O'),\n",
              " ('home', 'O'),\n",
              " ('to', 'O'),\n",
              " ('GA', 'B-geo-loc'),\n",
              " ('.', 'O'),\n",
              " ('It', 'O'),\n",
              " ('sucks', 'O'),\n",
              " ('not', 'O'),\n",
              " ('to', 'O'),\n",
              " ('be', 'O'),\n",
              " ('at', 'O'),\n",
              " ('Disney', 'B-facility'),\n",
              " ('world', 'I-facility'),\n",
              " (',', 'O'),\n",
              " ('but', 'O'),\n",
              " ('its', 'O'),\n",
              " ('good', 'O'),\n",
              " ('to', 'O'),\n",
              " ('be', 'O'),\n",
              " ('home', 'O'),\n",
              " ('.', 'O'),\n",
              " ('Time', 'O'),\n",
              " ('to', 'O'),\n",
              " ('start', 'O'),\n",
              " ('planning', 'O'),\n",
              " ('the', 'O'),\n",
              " ('next', 'O'),\n",
              " ('Disney', 'B-facility'),\n",
              " ('World', 'I-facility'),\n",
              " ('trip', 'O'),\n",
              " ('.', 'O')]"
            ]
          },
          "metadata": {},
          "execution_count": 3
        }
      ],
      "source": [
        "train_samples[1]"
      ]
    },
    {
      "cell_type": "markdown",
      "metadata": {
        "id": "JaS4WFxetHgp"
      },
      "source": [
        "## EDA: Let's have a look at the distribution of tags on data"
      ]
    },
    {
      "cell_type": "code",
      "execution_count": 4,
      "metadata": {
        "colab": {
          "base_uri": "https://localhost:8080/",
          "height": 546
        },
        "id": "x4eGILw5tMUb",
        "outputId": "593409d5-a7ff-4e5a-f436-dc4579d913fd"
      },
      "outputs": [
        {
          "output_type": "execute_result",
          "data": {
            "text/plain": [
              "<Axes: xlabel='keys'>"
            ]
          },
          "metadata": {},
          "execution_count": 4
        },
        {
          "output_type": "display_data",
          "data": {
            "text/plain": [
              "<Figure size 640x480 with 1 Axes>"
            ],
            "image/png": "[encoded data removed]"
          },
          "metadata": {}
        }
      ],
      "source": [
        "import seaborn as sns\n",
        "colors = ['violet', 'indigo', 'blue', 'green', 'yellow', 'orange', 'red']\n",
        "counts = {}\n",
        "\n",
        "# Calculateing the number of data points having a given label\n",
        "for tag in schema:\n",
        "  counts[tag] = 0\n",
        "  for sample in train_samples:\n",
        "    for label in sample:\n",
        "      if label[1] == tag:\n",
        "        counts[tag]+=1\n",
        "\n",
        "counts_df = pd.DataFrame({'keys': list(counts.keys()), 'values': list(counts.values())})\n",
        "counts_df.plot.bar(x='keys', y='values', legend=False, color=colors)"
      ]
    },
    {
      "cell_type": "markdown",
      "metadata": {
        "id": "4_lmaJBowNqr"
      },
      "source": [
        "- We have too many \"other\" fields, which is natural as only few annotations exist per sentence\n",
        "- let's remove `O` tag and see tag distribution"
      ]
    },
    {
      "cell_type": "code",
      "execution_count": 5,
      "metadata": {
        "colab": {
          "base_uri": "https://localhost:8080/",
          "height": 546
        },
        "id": "ipVTM0eLwkWJ",
        "outputId": "43764b1f-5541-47e4-fa3f-10c43c42a3cc"
      },
      "outputs": [
        {
          "output_type": "execute_result",
          "data": {
            "text/plain": [
              "<Axes: xlabel='keys'>"
            ]
          },
          "metadata": {},
          "execution_count": 5
        },
        {
          "output_type": "display_data",
          "data": {
            "text/plain": [
              "<Figure size 640x480 with 1 Axes>"
            ],
            "image/png": "[encoded data removed]"
          },
          "metadata": {}
        }
      ],
      "source": [
        "counts.pop('O')\n",
        "counts_df = pd.DataFrame({'keys': list(counts.keys()), 'values': list(counts.values())})\n",
        "counts_df.plot.bar(x='keys', y='values', legend=False, color=colors)"
      ]
    },
    {
      "cell_type": "markdown",
      "metadata": {
        "id": "h3rbf0bqTUTz"
      },
      "source": [
        "## Tag information\n",
        "- B-* Start token for a tag\n",
        "- I-* Continuation tokens for a tag\n",
        "\n",
        "## Available Entities\n",
        "- Company\n",
        "- Facility\n",
        "- Geo-loc: geolocation\n",
        "- Musicartist\n",
        "- Person\n",
        "- Product\n",
        "- Sportsteam\n",
        "- TV Show\n",
        "- Other"
      ]
    },
    {
      "cell_type": "markdown",
      "metadata": {
        "id": "TQIslo-BCly3"
      },
      "source": [
        "### More preprocessing"
      ]
    },
    {
      "cell_type": "markdown",
      "metadata": {
        "id": "G1Yyb4bmBIxl"
      },
      "source": [
        "- let's get vocab & sequence lengths"
      ]
    },
    {
      "cell_type": "code",
      "execution_count": 6,
      "metadata": {
        "colab": {
          "base_uri": "https://localhost:8080/"
        },
        "id": "NMMqyl5V-qey",
        "outputId": "a442146d-6354-43a3-b736-6a870992b417"
      },
      "outputs": [
        {
          "output_type": "stream",
          "name": "stdout",
          "text": [
            "******************************\n",
            "Max Length:  39\n",
            "Vocab Size:  25382\n"
          ]
        }
      ],
      "source": [
        "from collections import defaultdict\n",
        "all_samples = train_samples\n",
        "all_samples.extend(test_samples)\n",
        "\n",
        "word_counts = defaultdict(int) # Calculate vocab size\n",
        "max_len = 0 # Calculate max length of a sentence\n",
        "\n",
        "for sample in all_samples:\n",
        "  for word in sample:\n",
        "    word_counts[word[0]]+=1\n",
        "\n",
        "  max_len = max(max_len, len(sample))\n",
        "\n",
        "n_words = len(word_counts.items())\n",
        "\n",
        "\n",
        "print(\"*\"*30)\n",
        "print(\"Max Length: \", max_len)\n",
        "print(\"Vocab Size: \", n_words)"
      ]
    },
    {
      "cell_type": "markdown",
      "metadata": {
        "id": "ZmyDZ8CnUCeW"
      },
      "source": [
        "## Our approach\n",
        "- Train a simple LSTM + CRF model to get a baseline\n",
        "- Look at the results of transformer based architectures"
      ]
    },
    {
      "cell_type": "markdown",
      "metadata": {
        "id": "-w0sdEfKB0Gq"
      },
      "source": [
        "## Training LSTM + CRF model:\n",
        "- Let's using glove to initialize embeddings"
      ]
    },
    {
      "cell_type": "code",
      "execution_count": 7,
      "metadata": {
        "id": "UB6iUDzQDXbn"
      },
      "outputs": [],
      "source": [
        "import gensim.downloader as api\n",
        "word2vec = api.load(\"glove-twitter-200\") # Loading word2vec gensim model\n",
        "embedding_dim = 200"
      ]
    },
    {
      "cell_type": "markdown",
      "metadata": {
        "id": "BrAx_B4NL-Y5"
      },
      "source": [
        "### Training a tokenizer for LSTM input embeddings"
      ]
    },
    {
      "cell_type": "code",
      "execution_count": 8,
      "metadata": {
        "id": "5FD0YgSyLZPi"
      },
      "outputs": [],
      "source": [
        "all_sentences = [] # Concating test, train sentences. To train a tokenizer\n",
        "for sample in all_samples:\n",
        "  sentence = [tag[0] for tag in sample]\n",
        "  all_sentences.append(sentence)\n",
        "\n",
        "crf_tokenizer = tf.keras.preprocessing.text.Tokenizer(num_words=n_words, lower=True)\n",
        "crf_tokenizer.fit_on_texts(all_sentences)"
      ]
    },
    {
      "cell_type": "markdown",
      "metadata": {
        "id": "vVSuLDqCMJ4I"
      },
      "source": [
        "### Prepare embedding matrix"
      ]
    },
    {
      "cell_type": "code",
      "execution_count": 9,
      "metadata": {
        "colab": {
          "base_uri": "https://localhost:8080/"
        },
        "id": "7zDyMXYBMEPA",
        "outputId": "0eb7c2aa-0a26-492f-b5b2-cb53c45f23d4"
      },
      "outputs": [
        {
          "output_type": "stream",
          "name": "stdout",
          "text": [
            "Converted 11495 words (10438 misses)\n"
          ]
        }
      ],
      "source": [
        "import numpy as np\n",
        "num_tokens = len(crf_tokenizer.word_index) + 1\n",
        "hits = 0\n",
        "misses = 0\n",
        "missed_words = []\n",
        "\n",
        "\n",
        "# Prepare embedding matrix\n",
        "embedding_matrix = np.zeros((num_tokens, embedding_dim))\n",
        "for word, i in crf_tokenizer.word_index.items():\n",
        "  embedding_vector = None\n",
        "  try:\n",
        "    embedding_vector = word2vec[word]\n",
        "  except Exception :\n",
        "    pass\n",
        "\n",
        "  if embedding_vector is not None:\n",
        "    # Words not found in embedding index will be all-zeros.\n",
        "    # This includes the representation for \"padding\" and \"OOV\"\n",
        "    embedding_matrix[i] = embedding_vector\n",
        "    hits += 1\n",
        "  else:\n",
        "    missed_words.append(word)\n",
        "    misses += 1\n",
        "print(\"Converted %d words (%d misses)\" % (hits, misses))"
      ]
    },
    {
      "cell_type": "markdown",
      "metadata": {
        "id": "Zn0GdTcF-bCN"
      },
      "source": [
        "# LSTM + CRF Model training"
      ]
    },
    {
      "cell_type": "markdown",
      "metadata": {
        "id": "NveHPtLoS_GZ"
      },
      "source": [
        "## Creating a training dataset"
      ]
    },
    {
      "cell_type": "code",
      "execution_count": 10,
      "metadata": {
        "id": "QKzqnTLkmu6f"
      },
      "outputs": [],
      "source": [
        "tag2id = {} # Label to indicies mapping\n",
        "id2tag = {} # Index to label mapping\n",
        "for i, tag in enumerate(schema):\n",
        "  tag2id[tag] = i\n",
        "  id2tag[i] = tag"
      ]
    },
    {
      "cell_type": "markdown",
      "metadata": {
        "id": "hCJDhwqjUmdC"
      },
      "source": [
        "- We will encode our labels as OHE vectors. This is to keep it compatible with SigmoidFocalCrossEntropy loss"
      ]
    },
    {
      "cell_type": "code",
      "execution_count": 11,
      "metadata": {
        "id": "RBDhfMe3STdR"
      },
      "outputs": [],
      "source": [
        "def get_dataset(samples, max_len, tag2id, tokenizer):\n",
        "  '''Prepares the input dataset\n",
        "\n",
        "  Args:\n",
        "    `samples`: List[List[Tuple[word, tag]]], input data\n",
        "    `max_len`: Maximum input length\n",
        "    `tag2id`: Mapping[tag: integer]\n",
        "    `tokenizer`: Tensorflow tokenizer, for tokenizing input sequence\n",
        "\n",
        "  Returns:\n",
        "    Tuple[np.ndarray, np.ndarray]: sentences and it's labels\n",
        "  '''\n",
        "  dataset = {'samples':[], 'labels': []}\n",
        "\n",
        "  for sample in samples:\n",
        "    # Extracting inputs and labels\n",
        "    inputs = [x[0] for x in sample]\n",
        "    outputs = [x[1] for x in sample]\n",
        "\n",
        "    # Tokenizing inputs\n",
        "    inputs = tokenizer.texts_to_sequences([inputs])[0]\n",
        "\n",
        "    # padding labels\n",
        "    padded_inputs = [inputs[i] if i < len(inputs) else 0 for i in range(max_len)]\n",
        "\n",
        "    # Initializing labels as One Hot Encoded Vectors\n",
        "    padded_labels = [[0 for i in range(len(tag2id))] for j in range(max_len)]\n",
        "    for i in range(len(outputs)):\n",
        "      padded_labels[i][tag2id[outputs[i]]] = 1\n",
        "\n",
        "    # Adding padded inputs & labels to dataset\n",
        "    dataset['samples'].append(padded_inputs)\n",
        "    dataset['labels'].append(padded_labels)\n",
        "\n",
        "  return np.array(dataset['samples']), np.array(dataset['labels'])\n",
        "\n",
        "train_sentences, train_labels = get_dataset(train_samples, max_len, tag2id, crf_tokenizer)\n",
        "test_sentences, test_labels = get_dataset(test_samples, max_len, tag2id, crf_tokenizer)"
      ]
    },
    {
      "cell_type": "markdown",
      "metadata": {
        "id": "5DoaomPwzL83"
      },
      "source": [
        "## Training Model"
      ]
    },
    {
      "cell_type": "markdown",
      "metadata": {
        "id": "NceuLRZTSxmn"
      },
      "source": [
        "- using [sigmoid focal cross entropy loss](https://www.tensorflow.org/addons/api_docs/python/tfa/losses/SigmoidFocalCrossEntropy). It performs better than sparse categorical cross entropy for highly imbalanced data."
      ]
    },
    {
      "cell_type": "code",
      "execution_count": 12,
      "metadata": {
        "id": "07KSPavQ-ecU",
        "colab": {
          "base_uri": "https://localhost:8080/"
        },
        "outputId": "ca27c2a9-6902-4c04-afe5-3c75ca17fd11"
      },
      "outputs": [
        {
          "output_type": "stream",
          "name": "stdout",
          "text": [
            "Model: \"model\"\n",
            "_________________________________________________________________\n",
            " Layer (type)                Output Shape              Param #   \n",
            "=================================================================\n",
            " input_1 (InputLayer)        [(None, 39)]              0         \n",
            "                                                                 \n",
            " embedding (Embedding)       (None, 39, 200)           4386800   \n",
            "                                                                 \n",
            " bidirectional (Bidirectiona  (None, 39, 100)          100400    \n",
            " l)                                                              \n",
            "                                                                 \n",
            " bidirectional_1 (Bidirectio  (None, 39, 100)          60400     \n",
            " nal)                                                            \n",
            "                                                                 \n",
            " time_distributed (TimeDistr  (None, 39, 25)           2525      \n",
            " ibuted)                                                         \n",
            "                                                                 \n",
            " crf (CRF)                   [(None, 39),              1100      \n",
            "                              (None, 39, 22),                    \n",
            "                              (None,),                           \n",
            "                              (22, 22)]                          \n",
            "                                                                 \n",
            "=================================================================\n",
            "Total params: 4,551,225\n",
            "Trainable params: 4,551,225\n",
            "Non-trainable params: 0\n",
            "_________________________________________________________________\n"
          ]
        }
      ],
      "source": [
        "from keras.models import Model\n",
        "from tensorflow.keras.layers import Input\n",
        "from tensorflow_addons.utils.types import FloatTensorLike, TensorLike\n",
        "\n",
        "# LSTM components\n",
        "from keras.layers import LSTM, Embedding, Dense, TimeDistributed, Dropout, Bidirectional\n",
        "\n",
        "# CRF layer\n",
        "from tensorflow_addons.layers import CRF\n",
        "\n",
        "# Sigmoid focal cross entropy loss. works well with highly unbalanced input data\n",
        "from tensorflow_addons.losses import SigmoidFocalCrossEntropy\n",
        "from tensorflow_addons.optimizers import AdamW\n",
        "\n",
        "\n",
        "def build_model():\n",
        "  # Model definition\n",
        "  input = Input(shape=(max_len,))\n",
        "\n",
        "  # Get embeddings\n",
        "  embeddings = Embedding(input_dim=embedding_matrix.shape[0],\n",
        "                      output_dim=embedding_dim,\n",
        "                      input_length=max_len, mask_zero=True,\n",
        "                      embeddings_initializer=tf.keras.initializers.Constant(embedding_matrix)\n",
        "                    )(input)\n",
        "\n",
        "  # variational biLSTM\n",
        "  output_sequences = Bidirectional(LSTM(units=50, return_sequences=True))(embeddings)\n",
        "\n",
        "  # Stacking\n",
        "  output_sequences = Bidirectional(LSTM(units=50, return_sequences=True))(output_sequences)\n",
        "\n",
        "  # Adding more non-linearity\n",
        "  dense_out = TimeDistributed(Dense(25, activation=\"relu\"))(output_sequences)\n",
        "\n",
        "  #s\n",
        "  crf = CRF(len(schema), name='crf')\n",
        "  predicted_sequence, potentials, sequence_length, crf_kernel = crf(dense_out)\n",
        "\n",
        "  model = Model(input, potentials)\n",
        "  model.compile(\n",
        "      optimizer=AdamW(weight_decay=0.001),\n",
        "      loss= SigmoidFocalCrossEntropy()) # Sigmoid focal cross entropy loss\n",
        "\n",
        "  return model\n",
        "\n",
        "model = build_model()\n",
        "\n",
        "# Checkpointing\n",
        "save_model = tf.keras.callbacks.ModelCheckpoint(filepath='twitter_ner_crf.h5',\n",
        "  monitor='val_loss',\n",
        "  save_weights_only=True,\n",
        "  save_best_only=True,\n",
        "  verbose=1\n",
        ")\n",
        "\n",
        "# Early stopping\n",
        "es = tf.keras.callbacks.EarlyStopping(monitor='val_loss', verbose=1, patience=10)\n",
        "\n",
        "callbacks = [save_model, es]\n",
        "\n",
        "model.summary()"
      ]
    },
    {
      "cell_type": "markdown",
      "metadata": {
        "id": "pZhPGAyhrJRz"
      },
      "source": [
        "# Training our model"
      ]
    },
    {
      "cell_type": "code",
      "execution_count": 13,
      "metadata": {
        "colab": {
          "base_uri": "https://localhost:8080/"
        },
        "id": "tl579tbVqY_O",
        "outputId": "4470a5f2-e1cf-4b99-aab6-2d725d644a6c"
      },
      "outputs": [
        {
          "output_type": "stream",
          "name": "stdout",
          "text": [
            "Epoch 1/300\n"
          ]
        },
        {
          "output_type": "stream",
          "name": "stderr",
          "text": [
            "WARNING:tensorflow:Gradients do not exist for variables ['chain_kernel:0'] when minimizing the loss. If you're using `model.compile()`, did you forget to provide a `loss`argument?\n",
            "WARNING:tensorflow:Gradients do not exist for variables ['chain_kernel:0'] when minimizing the loss. If you're using `model.compile()`, did you forget to provide a `loss`argument?\n"
          ]
        },
        {
          "output_type": "stream",
          "name": "stdout",
          "text": [
            "196/196 [==============================] - ETA: 0s - loss: 0.0674\n",
            "Epoch 1: val_loss improved from inf to 0.03561, saving model to twitter_ner_crf.h5\n",
            "196/196 [==============================] - 76s 270ms/step - loss: 0.0674 - val_loss: 0.0356\n",
            "Epoch 2/300\n",
            "196/196 [==============================] - ETA: 0s - loss: 0.0292\n",
            "Epoch 2: val_loss improved from 0.03561 to 0.02806, saving model to twitter_ner_crf.h5\n",
            "196/196 [==============================] - 45s 231ms/step - loss: 0.0292 - val_loss: 0.0281\n",
            "Epoch 3/300\n",
            "196/196 [==============================] - ETA: 0s - loss: 0.0222\n",
            "Epoch 3: val_loss improved from 0.02806 to 0.02066, saving model to twitter_ner_crf.h5\n",
            "196/196 [==============================] - 47s 238ms/step - loss: 0.0222 - val_loss: 0.0207\n",
            "Epoch 4/300\n",
            "196/196 [==============================] - ETA: 0s - loss: 0.0179\n",
            "Epoch 4: val_loss improved from 0.02066 to 0.01768, saving model to twitter_ner_crf.h5\n",
            "196/196 [==============================] - 44s 224ms/step - loss: 0.0179 - val_loss: 0.0177\n",
            "Epoch 5/300\n",
            "196/196 [==============================] - ETA: 0s - loss: 0.0153\n",
            "Epoch 5: val_loss improved from 0.01768 to 0.01589, saving model to twitter_ner_crf.h5\n",
            "196/196 [==============================] - 46s 235ms/step - loss: 0.0153 - val_loss: 0.0159\n",
            "Epoch 6/300\n",
            "196/196 [==============================] - ETA: 0s - loss: 0.0132\n",
            "Epoch 6: val_loss improved from 0.01589 to 0.01381, saving model to twitter_ner_crf.h5\n",
            "196/196 [==============================] - 45s 231ms/step - loss: 0.0132 - val_loss: 0.0138\n",
            "Epoch 7/300\n",
            "196/196 [==============================] - ETA: 0s - loss: 0.0118\n",
            "Epoch 7: val_loss improved from 0.01381 to 0.01245, saving model to twitter_ner_crf.h5\n",
            "196/196 [==============================] - 45s 230ms/step - loss: 0.0118 - val_loss: 0.0124\n",
            "Epoch 8/300\n",
            "196/196 [==============================] - ETA: 0s - loss: 0.0105\n",
            "Epoch 8: val_loss improved from 0.01245 to 0.01087, saving model to twitter_ner_crf.h5\n",
            "196/196 [==============================] - 44s 227ms/step - loss: 0.0105 - val_loss: 0.0109\n",
            "Epoch 9/300\n",
            "196/196 [==============================] - ETA: 0s - loss: 0.0092\n",
            "Epoch 9: val_loss improved from 0.01087 to 0.00915, saving model to twitter_ner_crf.h5\n",
            "196/196 [==============================] - 46s 236ms/step - loss: 0.0092 - val_loss: 0.0092\n",
            "Epoch 10/300\n",
            "196/196 [==============================] - ETA: 0s - loss: 0.0089\n",
            "Epoch 10: val_loss did not improve from 0.00915\n",
            "196/196 [==============================] - 49s 247ms/step - loss: 0.0089 - val_loss: 0.0093\n",
            "Epoch 11/300\n",
            "196/196 [==============================] - ETA: 0s - loss: 0.0074\n",
            "Epoch 11: val_loss improved from 0.00915 to 0.00732, saving model to twitter_ner_crf.h5\n",
            "196/196 [==============================] - 45s 230ms/step - loss: 0.0074 - val_loss: 0.0073\n",
            "Epoch 12/300\n",
            "196/196 [==============================] - ETA: 0s - loss: 0.0071\n",
            "Epoch 12: val_loss did not improve from 0.00732\n",
            "196/196 [==============================] - 46s 235ms/step - loss: 0.0071 - val_loss: 0.0083\n",
            "Epoch 13/300\n",
            "196/196 [==============================] - ETA: 0s - loss: 0.0065\n",
            "Epoch 13: val_loss improved from 0.00732 to 0.00647, saving model to twitter_ner_crf.h5\n",
            "196/196 [==============================] - 46s 232ms/step - loss: 0.0065 - val_loss: 0.0065\n",
            "Epoch 14/300\n",
            "196/196 [==============================] - ETA: 0s - loss: 0.0059\n",
            "Epoch 14: val_loss improved from 0.00647 to 0.00564, saving model to twitter_ner_crf.h5\n",
            "196/196 [==============================] - 44s 224ms/step - loss: 0.0059 - val_loss: 0.0056\n",
            "Epoch 15/300\n",
            "196/196 [==============================] - ETA: 0s - loss: 0.0049\n",
            "Epoch 15: val_loss improved from 0.00564 to 0.00498, saving model to twitter_ner_crf.h5\n",
            "196/196 [==============================] - 45s 231ms/step - loss: 0.0049 - val_loss: 0.0050\n",
            "Epoch 16/300\n",
            "196/196 [==============================] - ETA: 0s - loss: 0.0044\n",
            "Epoch 16: val_loss improved from 0.00498 to 0.00484, saving model to twitter_ner_crf.h5\n",
            "196/196 [==============================] - 45s 228ms/step - loss: 0.0044 - val_loss: 0.0048\n",
            "Epoch 17/300\n",
            "196/196 [==============================] - ETA: 0s - loss: 0.0073\n",
            "Epoch 17: val_loss did not improve from 0.00484\n",
            "196/196 [==============================] - 48s 242ms/step - loss: 0.0073 - val_loss: 0.0069\n",
            "Epoch 18/300\n",
            "196/196 [==============================] - ETA: 0s - loss: 0.0058\n",
            "Epoch 18: val_loss did not improve from 0.00484\n",
            "196/196 [==============================] - 45s 230ms/step - loss: 0.0058 - val_loss: 0.0056\n",
            "Epoch 19/300\n",
            "196/196 [==============================] - ETA: 0s - loss: 0.0047\n",
            "Epoch 19: val_loss improved from 0.00484 to 0.00465, saving model to twitter_ner_crf.h5\n",
            "196/196 [==============================] - 45s 232ms/step - loss: 0.0047 - val_loss: 0.0046\n",
            "Epoch 20/300\n",
            "196/196 [==============================] - ETA: 0s - loss: 0.0041\n",
            "Epoch 20: val_loss improved from 0.00465 to 0.00416, saving model to twitter_ner_crf.h5\n",
            "196/196 [==============================] - 46s 235ms/step - loss: 0.0041 - val_loss: 0.0042\n",
            "Epoch 21/300\n",
            "196/196 [==============================] - ETA: 0s - loss: 0.0043\n",
            "Epoch 21: val_loss did not improve from 0.00416\n",
            "196/196 [==============================] - 47s 240ms/step - loss: 0.0043 - val_loss: 0.0284\n",
            "Epoch 22/300\n",
            "196/196 [==============================] - ETA: 0s - loss: 0.0048\n",
            "Epoch 22: val_loss did not improve from 0.00416\n",
            "196/196 [==============================] - 45s 229ms/step - loss: 0.0048 - val_loss: 0.0139\n",
            "Epoch 23/300\n",
            "196/196 [==============================] - ETA: 0s - loss: 0.0043\n",
            "Epoch 23: val_loss improved from 0.00416 to 0.00344, saving model to twitter_ner_crf.h5\n",
            "196/196 [==============================] - 46s 234ms/step - loss: 0.0043 - val_loss: 0.0034\n",
            "Epoch 24/300\n",
            "196/196 [==============================] - ETA: 0s - loss: 0.0031\n",
            "Epoch 24: val_loss improved from 0.00344 to 0.00290, saving model to twitter_ner_crf.h5\n",
            "196/196 [==============================] - 48s 247ms/step - loss: 0.0031 - val_loss: 0.0029\n",
            "Epoch 25/300\n",
            "196/196 [==============================] - ETA: 0s - loss: 0.0026\n",
            "Epoch 25: val_loss improved from 0.00290 to 0.00253, saving model to twitter_ner_crf.h5\n",
            "196/196 [==============================] - 46s 235ms/step - loss: 0.0026 - val_loss: 0.0025\n",
            "Epoch 26/300\n",
            "196/196 [==============================] - ETA: 0s - loss: 0.0024\n",
            "Epoch 26: val_loss did not improve from 0.00253\n",
            "196/196 [==============================] - 46s 237ms/step - loss: 0.0024 - val_loss: 0.0025\n",
            "Epoch 27/300\n",
            "196/196 [==============================] - ETA: 0s - loss: 0.0029\n",
            "Epoch 27: val_loss improved from 0.00253 to 0.00244, saving model to twitter_ner_crf.h5\n",
            "196/196 [==============================] - 47s 241ms/step - loss: 0.0029 - val_loss: 0.0024\n",
            "Epoch 28/300\n",
            "196/196 [==============================] - ETA: 0s - loss: 0.0028\n",
            "Epoch 28: val_loss improved from 0.00244 to 0.00236, saving model to twitter_ner_crf.h5\n",
            "196/196 [==============================] - 45s 232ms/step - loss: 0.0028 - val_loss: 0.0024\n",
            "Epoch 29/300\n",
            "196/196 [==============================] - ETA: 0s - loss: 0.0024\n",
            "Epoch 29: val_loss did not improve from 0.00236\n",
            "196/196 [==============================] - 45s 230ms/step - loss: 0.0024 - val_loss: 0.0030\n",
            "Epoch 30/300\n",
            "196/196 [==============================] - ETA: 0s - loss: 0.0022\n",
            "Epoch 30: val_loss improved from 0.00236 to 0.00171, saving model to twitter_ner_crf.h5\n",
            "196/196 [==============================] - 46s 233ms/step - loss: 0.0022 - val_loss: 0.0017\n",
            "Epoch 31/300\n",
            "196/196 [==============================] - ETA: 0s - loss: 0.0021\n",
            "Epoch 31: val_loss improved from 0.00171 to 0.00171, saving model to twitter_ner_crf.h5\n",
            "196/196 [==============================] - 47s 237ms/step - loss: 0.0021 - val_loss: 0.0017\n",
            "Epoch 32/300\n",
            "196/196 [==============================] - ETA: 0s - loss: 0.0017\n",
            "Epoch 32: val_loss did not improve from 0.00171\n",
            "196/196 [==============================] - 44s 225ms/step - loss: 0.0017 - val_loss: 0.0019\n",
            "Epoch 33/300\n",
            "196/196 [==============================] - ETA: 0s - loss: 0.0017\n",
            "Epoch 33: val_loss improved from 0.00171 to 0.00142, saving model to twitter_ner_crf.h5\n",
            "196/196 [==============================] - 45s 229ms/step - loss: 0.0017 - val_loss: 0.0014\n",
            "Epoch 34/300\n",
            "196/196 [==============================] - ETA: 0s - loss: 0.0014\n",
            "Epoch 34: val_loss did not improve from 0.00142\n",
            "196/196 [==============================] - 44s 226ms/step - loss: 0.0014 - val_loss: 0.0016\n",
            "Epoch 35/300\n",
            "196/196 [==============================] - ETA: 0s - loss: 0.0027\n",
            "Epoch 35: val_loss did not improve from 0.00142\n",
            "196/196 [==============================] - 45s 231ms/step - loss: 0.0027 - val_loss: 0.0017\n",
            "Epoch 36/300\n",
            "196/196 [==============================] - ETA: 0s - loss: 0.0017\n",
            "Epoch 36: val_loss did not improve from 0.00142\n",
            "196/196 [==============================] - 46s 235ms/step - loss: 0.0017 - val_loss: 0.0017\n",
            "Epoch 37/300\n",
            "196/196 [==============================] - ETA: 0s - loss: 0.0014\n",
            "Epoch 37: val_loss did not improve from 0.00142\n",
            "196/196 [==============================] - 45s 232ms/step - loss: 0.0014 - val_loss: 0.0015\n",
            "Epoch 38/300\n",
            "196/196 [==============================] - ETA: 0s - loss: 0.0012\n",
            "Epoch 38: val_loss improved from 0.00142 to 0.00120, saving model to twitter_ner_crf.h5\n",
            "196/196 [==============================] - 45s 230ms/step - loss: 0.0012 - val_loss: 0.0012\n",
            "Epoch 39/300\n",
            "196/196 [==============================] - ETA: 0s - loss: 0.0011\n",
            "Epoch 39: val_loss improved from 0.00120 to 0.00105, saving model to twitter_ner_crf.h5\n",
            "196/196 [==============================] - 46s 236ms/step - loss: 0.0011 - val_loss: 0.0010\n",
            "Epoch 40/300\n",
            "196/196 [==============================] - ETA: 0s - loss: 0.0083\n",
            "Epoch 40: val_loss did not improve from 0.00105\n",
            "196/196 [==============================] - 45s 231ms/step - loss: 0.0083 - val_loss: 0.0043\n",
            "Epoch 41/300\n",
            "196/196 [==============================] - ETA: 0s - loss: 0.0026\n",
            "Epoch 41: val_loss did not improve from 0.00105\n",
            "196/196 [==============================] - 45s 230ms/step - loss: 0.0026 - val_loss: 0.0019\n",
            "Epoch 42/300\n",
            "196/196 [==============================] - ETA: 0s - loss: 0.0016\n",
            "Epoch 42: val_loss did not improve from 0.00105\n",
            "196/196 [==============================] - 46s 233ms/step - loss: 0.0016 - val_loss: 0.0016\n",
            "Epoch 43/300\n",
            "196/196 [==============================] - ETA: 0s - loss: 0.0015\n",
            "Epoch 43: val_loss did not improve from 0.00105\n",
            "196/196 [==============================] - 47s 238ms/step - loss: 0.0015 - val_loss: 0.0014\n",
            "Epoch 44/300\n",
            "196/196 [==============================] - ETA: 0s - loss: 0.0065\n",
            "Epoch 44: val_loss did not improve from 0.00105\n",
            "196/196 [==============================] - 45s 231ms/step - loss: 0.0065 - val_loss: 0.0043\n",
            "Epoch 45/300\n",
            "196/196 [==============================] - ETA: 0s - loss: 0.0063\n",
            "Epoch 45: val_loss did not improve from 0.00105\n",
            "196/196 [==============================] - 45s 232ms/step - loss: 0.0063 - val_loss: 0.0040\n",
            "Epoch 46/300\n",
            "196/196 [==============================] - ETA: 0s - loss: 0.0032\n",
            "Epoch 46: val_loss did not improve from 0.00105\n",
            "196/196 [==============================] - 45s 232ms/step - loss: 0.0032 - val_loss: 0.0030\n",
            "Epoch 47/300\n",
            "196/196 [==============================] - ETA: 0s - loss: 0.0028\n",
            "Epoch 47: val_loss did not improve from 0.00105\n",
            "196/196 [==============================] - 46s 236ms/step - loss: 0.0028 - val_loss: 0.0025\n",
            "Epoch 48/300\n",
            "196/196 [==============================] - ETA: 0s - loss: 0.0023\n",
            "Epoch 48: val_loss did not improve from 0.00105\n",
            "196/196 [==============================] - 45s 231ms/step - loss: 0.0023 - val_loss: 0.0022\n",
            "Epoch 49/300\n",
            "196/196 [==============================] - ETA: 0s - loss: 0.0020\n",
            "Epoch 49: val_loss did not improve from 0.00105\n",
            "196/196 [==============================] - 46s 233ms/step - loss: 0.0020 - val_loss: 0.0029\n",
            "Epoch 49: early stopping\n"
          ]
        },
        {
          "output_type": "execute_result",
          "data": {
            "text/plain": [
              "<keras.callbacks.History at 0x7e40b842cfd0>"
            ]
          },
          "metadata": {},
          "execution_count": 13
        }
      ],
      "source": [
        "model.fit(train_sentences, train_labels,\n",
        "          validation_data = (test_sentences, test_labels),\n",
        "          epochs = 300,\n",
        "          callbacks  = callbacks,\n",
        "          shuffle=True)"
      ]
    },
    {
      "cell_type": "markdown",
      "metadata": {
        "id": "vJj4X8FmzeFe"
      },
      "source": [
        "# Let's load the best model"
      ]
    },
    {
      "cell_type": "code",
      "execution_count": 14,
      "metadata": {
        "id": "kEWzHmAhzijN"
      },
      "outputs": [],
      "source": [
        "model.load_weights('twitter_ner_crf.h5')"
      ]
    },
    {
      "cell_type": "code",
      "execution_count": 15,
      "metadata": {
        "id": "6pA1Ekybfr96"
      },
      "outputs": [],
      "source": [
        "crf_model = tf.keras.Model(inputs=model.input, outputs=[model.output, model.get_layer('crf').output, model.input])"
      ]
    },
    {
      "cell_type": "markdown",
      "metadata": {
        "id": "per1der_V5yf"
      },
      "source": [
        "### Let's calculate average accuracy of the model on test set"
      ]
    },
    {
      "cell_type": "code",
      "execution_count": 16,
      "metadata": {
        "colab": {
          "base_uri": "https://localhost:8080/"
        },
        "id": "AYxHmRJWvri_",
        "outputId": "0974b703-21f0-4f18-d7b4-d6a75e615b1c"
      },
      "outputs": [
        {
          "output_type": "stream",
          "name": "stdout",
          "text": [
            "********************************\n",
            "Average accuracy of model on test set: 0.992\n"
          ]
        }
      ],
      "source": [
        "def calculate_accuracy(y_true, y_pred):\n",
        "  '''Convert categorical one hot encodings to indices and compute accuracy\n",
        "\n",
        "  Args:\n",
        "    `y_true`: true values\n",
        "    `y_pred`: model predictions\n",
        "\n",
        "  Returns:\n",
        "    Integer, accuracy of prediction\n",
        "  '''\n",
        "  acc_metric = tf.keras.metrics.Accuracy()\n",
        "  y_true = tf.argmax(y_true, axis=-1)\n",
        "  return acc_metric(y_true, y_pred).numpy().item()\n",
        "\n",
        "def calculate_model_accuracy(crf_model, test_sentences, test_labels):\n",
        "  '''Calculates average validation accuracy of model'''\n",
        "\n",
        "  # Batch the dataset\n",
        "  batched_validation_set = tf.data.Dataset.from_tensor_slices((test_sentences, test_labels)).batch(32)\n",
        "\n",
        "  average_acc = 0\n",
        "  # Iterate through batches\n",
        "  for batch_test_sentences, batch_test_labels in batched_validation_set:\n",
        "    predicted_labels, _, _, _ = crf_model(batch_test_sentences)[1]\n",
        "    average_acc += calculate_accuracy(batch_test_labels, predicted_labels)\n",
        "\n",
        "  average_acc/=len(batched_validation_set)\n",
        "  return average_acc\n",
        "\n",
        "average_acc = calculate_model_accuracy(crf_model, test_sentences, test_labels)\n",
        "\n",
        "print(\"*\"*32)\n",
        "print(f\"Average accuracy of model on test set: {average_acc:.3f}\")"
      ]
    },
    {
      "cell_type": "markdown",
      "metadata": {
        "id": "0SOhIRwLWAB8"
      },
      "source": [
        "# BERT Model"
      ]
    },
    {
      "cell_type": "markdown",
      "metadata": {
        "id": "aSHidMIQk8EK"
      },
      "source": [
        "## Getting the  bert model"
      ]
    },
    {
      "cell_type": "code",
      "execution_count": 17,
      "metadata": {
        "id": "FtG_qfNmlayh"
      },
      "outputs": [],
      "source": [
        "from transformers import AutoConfig, TFAutoModelForTokenClassification\n",
        "\n",
        "MODEL_NAME = 'bert-base-uncased'"
      ]
    },
    {
      "cell_type": "markdown",
      "metadata": {
        "id": "v-cb1G9uoDAa"
      },
      "source": [
        "# Loading the tokenizer"
      ]
    },
    {
      "cell_type": "code",
      "execution_count": 18,
      "metadata": {
        "colab": {
          "base_uri": "https://localhost:8080/",
          "height": 269,
          "referenced_widgets": [
            "4e4b22e4c6fd4c81b6b66a5d1fffbae1",
            "29e80456acde499c92efa1cfc7905bc2",
            "f187ba4ec9a7401cb20a29fab469a302",
            "3c7d9544099d457c9a821baff46535da",
            "09f4d5550b0d48e3aba02270c5bd74e5",
            "f38b2ee62c1f451c94e39742931416ad",
            "8c8c954754db4e91bd44afe0622d35ef",
            "78af48e950744669aae3f330bf5af4a0",
            "46c2a1e03b504a4fabea5e8e1328cc45",
            "8e3f2ec80cb045b6bba43395070b0094",
            "d0e532ceaf204723a20d239dd0114334",
            "44adb370cdb24cf0bb0c19be9d327da7",
            "9949f151d5974684a8b4dd0eb45afe1a",
            "222afbaf745a4f4bbe274f2910d4bffb",
            "bc23c83ce5ca48aaa17c911af77dc96e",
            "d7fb43d65ae14a3cba25684e9864d719",
            "7d307dfa4c914f6a96da3d05253ea9a0",
            "9b01a3559b684e4ab37b4e133fbb4207",
            "4b8ec0a6687c43a29b285dfd504d1bf3",
            "2b604eda826d40e4be68a78348bccd70",
            "e3c0b3ead97f45388b2a2afb5b8369e5",
            "d938592d767c4a4fbf33f7cd4eabad9a",
            "815303a0d55d4db9b22e9d5a5e2e9081",
            "72545131c63c46d481f416a6295bd1f3",
            "948c8851f782478a879467d208ba1bbc",
            "f242348216b74e5bac275ee0547d3c3b",
            "16cee2198e144f03b2909f5351d68d03",
            "d4f852cb885045f3a8886ef285ab5317",
            "2287d092a5e145a89b35e30bad0bf175",
            "e6ed67d63cf44770adedb5836c66a839",
            "2c6e7b4d8d374159b735d4bb06124881",
            "fc94a015c0d148599e1e1b1db70af340",
            "034bfde80ecd4e799187e8caa9baf62f",
            "10d28bab06d94f619c72295d11e17aba",
            "11192b1a553c44568d590afae3bb3209",
            "84c186e3a3cc4700a7a24b87f4b54a90",
            "3173584f90e8479488ec0bcec0b1e212",
            "ebe6e9fd43f644d681ed1b3fbe1eebef",
            "a93bbc3ae3a44b8aa2ab753eadef9479",
            "54c6f82f04f74857812602b69ae01d33",
            "e031e13326614c3db773feebb2969fc7",
            "1e011d05ce224910a2ee7c45a5f596ff",
            "89d1c741f7844e5dbd2fb3c67b41f993",
            "ea7f5c6a348345ac8b627c6755b70a73"
          ]
        },
        "id": "dAxau3xskB9S",
        "outputId": "ff123f7a-7e73-4b45-ba61-bf9593ca6994"
      },
      "outputs": [
        {
          "output_type": "stream",
          "name": "stderr",
          "text": [
            "/usr/local/lib/python3.10/dist-packages/huggingface_hub/utils/_token.py:89: UserWarning: \n",
            "The secret `HF_TOKEN` does not exist in your Colab secrets.\n",
            "To authenticate with the Hugging Face Hub, create a token in your settings tab (https://huggingface.co/settings/tokens), set it as secret in your Google Colab and restart your session.\n",
            "You will be able to reuse this secret in all of your notebooks.\n",
            "Please note that authentication is recommended but still optional to access public models or datasets.\n",
            "  warnings.warn(\n"
          ]
        },
        {
          "output_type": "display_data",
          "data": {
            "text/plain": [
              "tokenizer_config.json:   0%|          | 0.00/48.0 [00:00<?, ?B/s]"
            ],
            "application/vnd.jupyter.widget-view+json": {
              "version_major": 2,
              "version_minor": 0,
              "model_id": "4e4b22e4c6fd4c81b6b66a5d1fffbae1"
            }
          },
          "metadata": {}
        },
        {
          "output_type": "display_data",
          "data": {
            "text/plain": [
              "config.json:   0%|          | 0.00/570 [00:00<?, ?B/s]"
            ],
            "application/vnd.jupyter.widget-view+json": {
              "version_major": 2,
              "version_minor": 0,
              "model_id": "44adb370cdb24cf0bb0c19be9d327da7"
            }
          },
          "metadata": {}
        },
        {
          "output_type": "display_data",
          "data": {
            "text/plain": [
              "vocab.txt:   0%|          | 0.00/232k [00:00<?, ?B/s]"
            ],
            "application/vnd.jupyter.widget-view+json": {
              "version_major": 2,
              "version_minor": 0,
              "model_id": "815303a0d55d4db9b22e9d5a5e2e9081"
            }
          },
          "metadata": {}
        },
        {
          "output_type": "display_data",
          "data": {
            "text/plain": [
              "tokenizer.json:   0%|          | 0.00/466k [00:00<?, ?B/s]"
            ],
            "application/vnd.jupyter.widget-view+json": {
              "version_major": 2,
              "version_minor": 0,
              "model_id": "10d28bab06d94f619c72295d11e17aba"
            }
          },
          "metadata": {}
        }
      ],
      "source": [
        "from transformers import AutoTokenizer\n",
        "tokenizer = AutoTokenizer.from_pretrained(MODEL_NAME) # Load bert-base-uncased tokenizer"
      ]
    },
    {
      "cell_type": "markdown",
      "metadata": {
        "id": "zJg1l3oYlORW"
      },
      "source": [
        "- tokenizer adds 101 and 102 token id at the start and end of the tokens\n",
        "- using[1:-1] to eliminate the extra 101, 102 that tokenizer adds\n",
        "- Let us have a peak at tokenization of a training sample"
      ]
    },
    {
      "cell_type": "code",
      "execution_count": 19,
      "metadata": {
        "colab": {
          "base_uri": "https://localhost:8080/"
        },
        "id": "aLSyAPd4kB0R",
        "outputId": "e3d93805-d56b-4c79-9f5f-fd6af67209ae"
      },
      "outputs": [
        {
          "output_type": "stream",
          "name": "stdout",
          "text": [
            "RT 19387\n",
            "@Hatshepsutely 1030\n",
            "@Hatshepsutely 16717\n",
            "@Hatshepsutely 5369\n",
            "@Hatshepsutely 4523\n",
            "@Hatshepsutely 10421\n",
            "@Hatshepsutely 2135\n",
            ": 1024\n",
            "@adamlambert 1030\n",
            "@adamlambert 4205\n",
            "@adamlambert 10278\n",
            "@adamlambert 8296\n",
            "please 3531\n",
            ", 1010\n",
            "oh 2821\n",
            "please 3531\n",
            "wear 4929\n",
            "the 1996\n",
            "infamous 14429\n",
            "beach 3509\n",
            "hat 6045\n",
            "tonight 3892\n",
            "during 2076\n",
            "your 2115\n",
            "encore 19493\n",
            "( 1006\n",
            "in 1999\n",
            "lieu 22470\n",
            "of 1997\n",
            "a 1037\n",
            "rasta 20710\n",
            "rasta 2696\n",
            "wig) 24405\n",
            "wig) 1007\n",
            ". 1012\n",
            "&lt; 1004\n",
            "&lt; 8318\n",
            "&lt; 1025\n",
            "3333 21211\n",
            "3333 2509\n"
          ]
        }
      ],
      "source": [
        "sample=train_samples[10] # Random tokenized sample\n",
        "for token, tag in sample:\n",
        "  for subtoken in tokenizer(token)['input_ids'][1:-1]:\n",
        "    print(token,subtoken)"
      ]
    },
    {
      "cell_type": "markdown",
      "metadata": {
        "id": "b_5S0esQNRQQ"
      },
      "source": [
        "### Get Datasets"
      ]
    },
    {
      "cell_type": "code",
      "execution_count": 20,
      "metadata": {
        "id": "NBwtuVKZ9UaR"
      },
      "outputs": [],
      "source": [
        "import numpy as np\n",
        "import tqdm\n",
        "\n",
        "def tokenize_sample(sample):\n",
        "  # Expand label to all subtokens and add 'O' label to start and end tokens\n",
        "  seq = [\n",
        "    (subtoken, tag)\n",
        "    for token, tag in sample\n",
        "    for subtoken in tokenizer(token.lower())['input_ids'][1:-1]\n",
        "  ]\n",
        "  return [(3, 'O')] + seq + [(4, 'O')]\n",
        "\n",
        "def preprocess(samples, tag2id):\n",
        "  tokenized_samples = list((map(tokenize_sample, samples)))\n",
        "  max_len = max(map(len, tokenized_samples))\n",
        "\n",
        "  # Subtokens\n",
        "  X_input_ids = np.zeros((len(samples), max_len), dtype=np.int32)\n",
        "\n",
        "  # Masks\n",
        "  X_input_masks = np.zeros((len(samples), max_len), dtype=np.int32)\n",
        "\n",
        "  # labels\n",
        "  y = np.zeros((len(samples), max_len), dtype=np.int32)\n",
        "\n",
        "  for i, sentence in enumerate(tokenized_samples):\n",
        "    for j in range(len(sentence)):\n",
        "      X_input_masks[i, j] = 1\n",
        "    for j, (subtoken_id, tag) in enumerate(sentence):\n",
        "      X_input_ids[i, j] = subtoken_id\n",
        "      y[i, j] = tag2id[tag]\n",
        "  return (X_input_ids, X_input_masks), y\n",
        "\n",
        "X_train, y_train = preprocess(train_samples, tag2id)\n",
        "X_test, y_test = preprocess(test_samples, tag2id)"
      ]
    },
    {
      "cell_type": "markdown",
      "metadata": {
        "id": "u1dTKQSJ7476"
      },
      "source": [
        "## Loading model"
      ]
    },
    {
      "cell_type": "code",
      "execution_count": 21,
      "metadata": {
        "colab": {
          "base_uri": "https://localhost:8080/",
          "height": 399,
          "referenced_widgets": [
            "3c32a3602cbc4b318f8680be00776858",
            "a87a90f6cd6b4ebc8c2316c01541ad68",
            "600112782643481e9273884c53bc81e9",
            "a1728424e72a4953b5c7606070cabcfb",
            "fb8afa5c306a441fb56f56ac554e2203",
            "d1ea5a6ae1c2464297fea2c190d9cfcc",
            "31c3dd9169b24399bb84a67e8f07c4cf",
            "29660fe6538c431ab743dcddf5265ba0",
            "3583acee78af4b7eacd647617904c6ce",
            "781995fb18fd4fbda44e235011e06335",
            "a6f67bf3ff4b47dfafb7d3d7e610ef7d"
          ]
        },
        "id": "BKY4i7ie3B-f",
        "outputId": "09f75a4f-4701-4e01-91e6-14c9824ec38c"
      },
      "outputs": [
        {
          "output_type": "display_data",
          "data": {
            "text/plain": [
              "model.safetensors:   0%|          | 0.00/440M [00:00<?, ?B/s]"
            ],
            "application/vnd.jupyter.widget-view+json": {
              "version_major": 2,
              "version_minor": 0,
              "model_id": "3c32a3602cbc4b318f8680be00776858"
            }
          },
          "metadata": {}
        },
        {
          "output_type": "stream",
          "name": "stderr",
          "text": [
            "All PyTorch model weights were used when initializing TFBertForTokenClassification.\n",
            "\n",
            "Some weights or buffers of the TF 2.0 model TFBertForTokenClassification were not initialized from the PyTorch model and are newly initialized: ['classifier.weight', 'classifier.bias']\n",
            "You should probably TRAIN this model on a down-stream task to be able to use it for predictions and inference.\n"
          ]
        },
        {
          "output_type": "stream",
          "name": "stdout",
          "text": [
            "Model: \"tf_bert_for_token_classification\"\n",
            "_________________________________________________________________\n",
            " Layer (type)                Output Shape              Param #   \n",
            "=================================================================\n",
            " bert (TFBertMainLayer)      multiple                  108891648 \n",
            "                                                                 \n",
            " dropout_37 (Dropout)        multiple                  0 (unused)\n",
            "                                                                 \n",
            " classifier (Dense)          multiple                  16918     \n",
            "                                                                 \n",
            "=================================================================\n",
            "Total params: 108,908,566\n",
            "Trainable params: 108,908,566\n",
            "Non-trainable params: 0\n",
            "_________________________________________________________________\n"
          ]
        }
      ],
      "source": [
        "config = AutoConfig.from_pretrained(MODEL_NAME, num_labels=len(schema),\n",
        "                                    id2tag=id2tag, tag2id=tag2id) # Bert config\n",
        "\n",
        "model = TFAutoModelForTokenClassification.from_pretrained(MODEL_NAME,\n",
        "                                                          config=config) # Loading Bert model\n",
        "model.summary()"
      ]
    },
    {
      "cell_type": "markdown",
      "metadata": {
        "id": "IKuaEduTC2Aw"
      },
      "source": [
        "### Fit model on training data"
      ]
    },
    {
      "cell_type": "code",
      "source": [
        "y_train=tuple(map(tuple, y_train))"
      ],
      "metadata": {
        "id": "ZdXxptnTFigl"
      },
      "execution_count": 24,
      "outputs": []
    },
    {
      "cell_type": "code",
      "execution_count": null,
      "metadata": {
        "id": "keBv0b8xkBxL"
      },
      "outputs": [],
      "source": [
        "BATCH_SIZE=32\n",
        "\n",
        "optimizer = tf.keras.optimizers.Adam(learning_rate=0.0001) # Creating optimizer\n",
        "\n",
        "loss = tf.keras.losses.SparseCategoricalCrossentropy(from_logits=True)\n",
        "metric = tf.keras.metrics.SparseCategoricalAccuracy('accuracy')\n",
        "\n",
        "model.compile(optimizer=optimizer, loss=loss, metrics=metric)\n",
        "\n",
        "history = model.fit(X_train, y_train,\n",
        "                  validation_split=0.2, epochs=10,\n",
        "                  batch_size=BATCH_SIZE)"
      ]
    },
    {
      "cell_type": "markdown",
      "metadata": {
        "id": "V-klF3SGnIJ7"
      },
      "source": [
        "- Lets have a side by side view of true labels and model predictions\n",
        "- Arranged as an array of Tuple(token, true label, model prediction)"
      ]
    },
    {
      "cell_type": "code",
      "execution_count": 27,
      "metadata": {
        "colab": {
          "base_uri": "https://localhost:8080/"
        },
        "id": "up3p91b8kBu-",
        "outputId": "cda8e677-884a-4aed-a760-21d7d207ae9b"
      },
      "outputs": [
        {
          "output_type": "stream",
          "name": "stdout",
          "text": [
            "121/121 [==============================] - 2318s 19s/step\n"
          ]
        }
      ],
      "source": [
        "def aggregate(sample, predictions):\n",
        "  results = []\n",
        "  i = 1\n",
        "  for token, y_true in sample:\n",
        "      nr_subtoken = len(tokenizer(token.lower())['input_ids']) - 2 # Extracting word tokens\n",
        "      pred = predictions[i:i+nr_subtoken] # Extracting predictions\n",
        "      i += nr_subtoken\n",
        "      y_pred = schema[np.argmax(np.sum(pred, axis=0))] # Get label of prediction\n",
        "      results.append((token, y_true, y_pred))\n",
        "  return results\n",
        "\n",
        "y_probs = model.predict(X_test)[0]\n",
        "predictions = [aggregate(sample, predictions)\n",
        "               for sample, predictions in zip(test_samples, y_probs)]"
      ]
    },
    {
      "cell_type": "code",
      "execution_count": 28,
      "metadata": {
        "colab": {
          "base_uri": "https://localhost:8080/"
        },
        "id": "F3s_LcZLkBrX",
        "outputId": "6ef603af-231d-4fa7-d6b0-e3a3a4bdc63d"
      },
      "outputs": [
        {
          "output_type": "stream",
          "name": "stdout",
          "text": [
            "[('I', 'O', 'O'), ('drive', 'O', 'B-geo-loc'), ('by', 'O', 'B-tvshow'), ('that', 'O', 'I-movie'), ('motel', 'O', 'I-tvshow'), ('almost', 'O', 'I-product'), ('every', 'O', 'I-product'), ('night', 'O', 'I-geo-loc'), ('.', 'O', 'I-tvshow'), ('#MesaShooting', 'O', 'I-tvshow')]\n",
            "[('Apple', 'B-product', 'I-geo-loc'), ('MacBook', 'I-product', 'I-geo-loc'), ('Pro', 'I-product', 'B-geo-loc'), ('A1278', 'I-product', 'B-geo-loc'), ('13.3', 'I-product', 'I-movie'), ('\"', 'I-product', 'I-movie'), ('Laptop', 'I-product', 'B-geo-loc'), ('-', 'I-product', 'I-company'), ('MD101LL/A', 'I-product', 'B-geo-loc'), ('(', 'O', 'B-product'), ('June', 'O', 'I-product'), (',', 'O', 'B-sportsteam'), ('2012', 'O', 'B-geo-loc'), (')', 'O', 'B-geo-loc'), ('-', 'O', 'I-company'), ('Full', 'O', 'I-movie'), ('read', 'O', 'I-movie'), ('by', 'O', 'B-movie'), ('eBay', 'B-company', 'B-geo-loc'), ('http://t.co/2zgQ99nmuf', 'O', 'I-company'), ('http://t.co/eQmogqqABK', 'O', 'B-sportsteam')]\n",
            "[('Tuff', 'B-musicartist', 'I-movie'), ('Culture', 'I-musicartist', 'I-movie'), ('-', 'O', 'I-movie'), ('Destiny', 'B-product', 'I-movie'), ('EP', 'O', 'B-product'), ('(', 'O', 'I-movie'), ('PAR', 'O', 'I-movie'), ('042', 'O', 'I-company'), ('FORTHCOMING', 'O', 'I-company'), ('27th', 'O', 'I-company'), ('JULY', 'O', 'I-person'), ('VIA', 'O', 'I-company'), ('JUNO', 'B-product', 'I-company'), (')', 'O', 'B-movie'), ('Tracklist', 'O', 'B-product'), (':', 'O', 'I-company'), ('Destiny', 'B-product', 'B-product'), ('Questions', 'B-product', 'B-geo-loc'), ('Theres', 'B-product', 'I-person'), ('No', 'I-product', 'I-person'), ('...', 'O', 'B-product'), ('http://t.co/X7nL8DiREK', 'O', 'I-company')]\n",
            "[('December', 'O', 'B-product'), ('23', 'O', 'B-product'), (',', 'O', 'B-product'), ('2015', 'O', 'B-company'), ('at', 'O', 'I-product'), ('03:44', 'O', 'I-product'), ('PM', 'O', 'B-product'), ('#if24', 'O', 'B-movie'), ('#s8', 'O', 'B-tvshow')]\n",
            "[('RT', 'O', 'I-company'), ('@YahooDrSaturday', 'O', 'I-company'), (':', 'O', 'B-tvshow'), ('This', 'O', 'B-tvshow'), ('is', 'O', 'B-geo-loc'), ('how', 'O', 'B-geo-loc'), ('Arkansas', 'B-sportsteam', 'B-tvshow'), ('crazily', 'O', 'B-geo-loc'), ('converted', 'O', 'I-movie'), ('4th', 'O', 'I-movie'), ('and', 'O', 'B-geo-loc'), ('25', 'O', 'I-movie'), ('in', 'O', 'I-movie'), ('OT', 'O', 'B-movie'), ('.', 'O', 'B-sportsteam'), ('What', 'O', 'B-sportsteam'), ('a', 'O', 'I-tvshow'), ('lateral', 'O', 'I-tvshow'), ('!', 'O', 'I-tvshow'), ('https://t.co/ylALEACWe8', 'O', 'I-company')]\n"
          ]
        }
      ],
      "source": [
        "for i in range(10,15):\n",
        "  print(predictions[i])"
      ]
    },
    {
      "cell_type": "code",
      "execution_count": 29,
      "metadata": {
        "id": "zVs4QN9lxvWX"
      },
      "outputs": [],
      "source": [
        "model.save_pretrained(\"output/NER_pretrained\")"
      ]
    },
    {
      "cell_type": "markdown",
      "metadata": {
        "id": "uH1AqoFRnmav"
      },
      "source": [
        "# Comparision"
      ]
    },
    {
      "cell_type": "code",
      "execution_count": 30,
      "metadata": {
        "id": "iFq-TAnGKR2d"
      },
      "outputs": [],
      "source": [
        "def tokenize_bert(sentence):\n",
        "  sentence_tokens = tokenizer(sentence.split(' '))['input_ids'] # Splitting sentence into word tokens\n",
        "  ner_tokens = [3] # Start token\n",
        "  for word_token in sentence_tokens:\n",
        "    ner_tokens.extend(word_token[1:-1]) # Adding tokenized word token indicies\n",
        "  ner_tokens += [4] # End token\n",
        "  return ner_tokens"
      ]
    },
    {
      "cell_type": "code",
      "execution_count": 31,
      "metadata": {
        "id": "THODX33pFcuG"
      },
      "outputs": [],
      "source": [
        "sentence =\"apple macbook pro is the best laptop in the world\"\n",
        "\n",
        "# Bert tokenization\n",
        "bert_tokens = tokenize_bert(sentence)\n",
        "\n",
        "# CRF tokenization\n",
        "crf_tokens = crf_tokenizer.texts_to_sequences([sentence])"
      ]
    },
    {
      "cell_type": "markdown",
      "metadata": {
        "id": "muDThgUqoniN"
      },
      "source": [
        "#### Bert Output"
      ]
    },
    {
      "cell_type": "code",
      "execution_count": 32,
      "metadata": {
        "colab": {
          "base_uri": "https://localhost:8080/"
        },
        "id": "wNzFXO3STMJl",
        "outputId": "5cf57884-e163-4d4b-b54f-de88b30a92bd"
      },
      "outputs": [
        {
          "output_type": "execute_result",
          "data": {
            "text/plain": [
              "[('apple', 'I-movie'),\n",
              " ('macbook', 'I-movie'),\n",
              " ('pro', 'I-movie'),\n",
              " ('is', 'I-movie'),\n",
              " ('the', 'I-movie'),\n",
              " ('best', 'I-movie'),\n",
              " ('laptop', 'I-movie'),\n",
              " ('in', 'I-movie'),\n",
              " ('the', 'I-movie'),\n",
              " ('world', 'I-movie')]"
            ]
          },
          "metadata": {},
          "execution_count": 32
        }
      ],
      "source": [
        "def align_labels_to_input(sentence, predictions):\n",
        "  sentence_tokens = sentence.lower().split(\" \")\n",
        "  results = []\n",
        "\n",
        "  i = 1\n",
        "  # Extracting labels corresponding to tokens\n",
        "  for token in sentence_tokens:\n",
        "      nr_subtoken = len(tokenizer(token)['input_ids']) - 2\n",
        "      pred = predictions[i:i+nr_subtoken]\n",
        "      i += nr_subtoken\n",
        "      y_pred = id2tag[np.argmax(np.sum(pred, axis=0))]\n",
        "      results.append((token, y_pred))\n",
        "  return results\n",
        "\n",
        "\n",
        "bert_logits = model.predict([bert_tokens], verbose=0).logits\n",
        "\n",
        "align_labels_to_input(sentence, bert_logits[0])"
      ]
    },
    {
      "cell_type": "markdown",
      "metadata": {
        "id": "raN5HiHIpNgd"
      },
      "source": [
        "#### CRF Output"
      ]
    },
    {
      "cell_type": "code",
      "execution_count": 33,
      "metadata": {
        "colab": {
          "base_uri": "https://localhost:8080/"
        },
        "id": "uitdDLK9UUoj",
        "outputId": "34267d7a-a099-4fa5-f8bc-b81374f364e0"
      },
      "outputs": [
        {
          "output_type": "stream",
          "name": "stdout",
          "text": [
            "[('apple', 'B-product'),\n",
            " ('macbook', '_'),\n",
            " ('pro', 'I-product'),\n",
            " ('is', 'O'),\n",
            " ('the', 'O'),\n",
            " ('best', 'O'),\n",
            " ('laptop', 'O'),\n",
            " ('in', 'O'),\n",
            " ('the', 'O'),\n",
            " ('world', 'O')]\n"
          ]
        }
      ],
      "source": [
        "from pprint import pprint # Pretty print package\n",
        "\n",
        "crf_padded_tokens = [[crf_tokens[0][x] if x < len(crf_tokens[0]) else 0 for x in range(39)]]\n",
        "crf_preds, _, _, _ = crf_model.predict(crf_padded_tokens, verbose=0)[1]\n",
        "\n",
        "crf_preds = [id2tag[x] for x in crf_preds[0]] # Convert indicies into predictions\n",
        "\n",
        "\n",
        "# Get aligned inputs with labels\n",
        "input_word_tokens = [crf_tokenizer.sequences_to_texts([[x]])[0] for x in crf_padded_tokens[0]]\n",
        "\n",
        "# Only printing non-padded tokens with their labels\n",
        "pprint(list(zip(input_word_tokens[:len(crf_tokens[0])], crf_preds[:len(crf_tokens[0])])))"
      ]
    }
  ],
  "metadata": {
    "accelerator": "GPU",
    "colab": {
      "provenance": []
    },
    "gpuClass": "standard",
    "kernelspec": {
      "display_name": "Python 3",
      "name": "python3"
    },
    "language_info": {
      "name": "python"
    },
    "widgets": {
      "application/vnd.jupyter.widget-state+json": {
        "4e4b22e4c6fd4c81b6b66a5d1fffbae1": {
          "model_module": "@jupyter-widgets/controls",
          "model_name": "HBoxModel",
          "model_module_version": "1.5.0",
          "state": {
            "_dom_classes": [],
            "_model_module": "@jupyter-widgets/controls",
            "_model_module_version": "1.5.0",
            "_model_name": "HBoxModel",
            "_view_count": null,
            "_view_module": "@jupyter-widgets/controls",
            "_view_module_version": "1.5.0",
            "_view_name": "HBoxView",
            "box_style": "",
            "children": [
              "IPY_MODEL_29e80456acde499c92efa1cfc7905bc2",
              "IPY_MODEL_f187ba4ec9a7401cb20a29fab469a302",
              "IPY_MODEL_3c7d9544099d457c9a821baff46535da"
            ],
            "layout": "IPY_MODEL_09f4d5550b0d48e3aba02270c5bd74e5"
          }
        },
        "29e80456acde499c92efa1cfc7905bc2": {
          "model_module": "@jupyter-widgets/controls",
          "model_name": "HTMLModel",
          "model_module_version": "1.5.0",
          "state": {
            "_dom_classes": [],
            "_model_module": "@jupyter-widgets/controls",
            "_model_module_version": "1.5.0",
            "_model_name": "HTMLModel",
            "_view_count": null,
            "_view_module": "@jupyter-widgets/controls",
            "_view_module_version": "1.5.0",
            "_view_name": "HTMLView",
            "description": "",
            "description_tooltip": null,
            "layout": "IPY_MODEL_f38b2ee62c1f451c94e39742931416ad",
            "placeholder": "​",
            "style": "IPY_MODEL_8c8c954754db4e91bd44afe0622d35ef",
            "value": "tokenizer_config.json: 100%"
          }
        },
        "f187ba4ec9a7401cb20a29fab469a302": {
          "model_module": "@jupyter-widgets/controls",
          "model_name": "FloatProgressModel",
          "model_module_version": "1.5.0",
          "state": {
            "_dom_classes": [],
            "_model_module": "@jupyter-widgets/controls",
            "_model_module_version": "1.5.0",
            "_model_name": "FloatProgressModel",
            "_view_count": null,
            "_view_module": "@jupyter-widgets/controls",
            "_view_module_version": "1.5.0",
            "_view_name": "ProgressView",
            "bar_style": "success",
            "description": "",
            "description_tooltip": null,
            "layout": "IPY_MODEL_78af48e950744669aae3f330bf5af4a0",
            "max": 48,
            "min": 0,
            "orientation": "horizontal",
            "style": "IPY_MODEL_46c2a1e03b504a4fabea5e8e1328cc45",
            "value": 48
          }
        },
        "3c7d9544099d457c9a821baff46535da": {
          "model_module": "@jupyter-widgets/controls",
          "model_name": "HTMLModel",
          "model_module_version": "1.5.0",
          "state": {
            "_dom_classes": [],
            "_model_module": "@jupyter-widgets/controls",
            "_model_module_version": "1.5.0",
            "_model_name": "HTMLModel",
            "_view_count": null,
            "_view_module": "@jupyter-widgets/controls",
            "_view_module_version": "1.5.0",
            "_view_name": "HTMLView",
            "description": "",
            "description_tooltip": null,
            "layout": "IPY_MODEL_8e3f2ec80cb045b6bba43395070b0094",
            "placeholder": "​",
            "style": "IPY_MODEL_d0e532ceaf204723a20d239dd0114334",
            "value": " 48.0/48.0 [00:00&lt;00:00, 2.32kB/s]"
          }
        },
        "09f4d5550b0d48e3aba02270c5bd74e5": {
          "model_module": "@jupyter-widgets/base",
          "model_name": "LayoutModel",
          "model_module_version": "1.2.0",
          "state": {
            "_model_module": "@jupyter-widgets/base",
            "_model_module_version": "1.2.0",
            "_model_name": "LayoutModel",
            "_view_count": null,
            "_view_module": "@jupyter-widgets/base",
            "_view_module_version": "1.2.0",
            "_view_name": "LayoutView",
            "align_content": null,
            "align_items": null,
            "align_self": null,
            "border": null,
            "bottom": null,
            "display": null,
            "flex": null,
            "flex_flow": null,
            "grid_area": null,
            "grid_auto_columns": null,
            "grid_auto_flow": null,
            "grid_auto_rows": null,
            "grid_column": null,
            "grid_gap": null,
            "grid_row": null,
            "grid_template_areas": null,
            "grid_template_columns": null,
            "grid_template_rows": null,
            "height": null,
            "justify_content": null,
            "justify_items": null,
            "left": null,
            "margin": null,
            "max_height": null,
            "max_width": null,
            "min_height": null,
            "min_width": null,
            "object_fit": null,
            "object_position": null,
            "order": null,
            "overflow": null,
            "overflow_x": null,
            "overflow_y": null,
            "padding": null,
            "right": null,
            "top": null,
            "visibility": null,
            "width": null
          }
        },
        "f38b2ee62c1f451c94e39742931416ad": {
          "model_module": "@jupyter-widgets/base",
          "model_name": "LayoutModel",
          "model_module_version": "1.2.0",
          "state": {
            "_model_module": "@jupyter-widgets/base",
            "_model_module_version": "1.2.0",
            "_model_name": "LayoutModel",
            "_view_count": null,
            "_view_module": "@jupyter-widgets/base",
            "_view_module_version": "1.2.0",
            "_view_name": "LayoutView",
            "align_content": null,
            "align_items": null,
            "align_self": null,
            "border": null,
            "bottom": null,
            "display": null,
            "flex": null,
            "flex_flow": null,
            "grid_area": null,
            "grid_auto_columns": null,
            "grid_auto_flow": null,
            "grid_auto_rows": null,
            "grid_column": null,
            "grid_gap": null,
            "grid_row": null,
            "grid_template_areas": null,
            "grid_template_columns": null,
            "grid_template_rows": null,
            "height": null,
            "justify_content": null,
            "justify_items": null,
            "left": null,
            "margin": null,
            "max_height": null,
            "max_width": null,
            "min_height": null,
            "min_width": null,
            "object_fit": null,
            "object_position": null,
            "order": null,
            "overflow": null,
            "overflow_x": null,
            "overflow_y": null,
            "padding": null,
            "right": null,
            "top": null,
            "visibility": null,
            "width": null
          }
        },
        "8c8c954754db4e91bd44afe0622d35ef": {
          "model_module": "@jupyter-widgets/controls",
          "model_name": "DescriptionStyleModel",
          "model_module_version": "1.5.0",
          "state": {
            "_model_module": "@jupyter-widgets/controls",
            "_model_module_version": "1.5.0",
            "_model_name": "DescriptionStyleModel",
            "_view_count": null,
            "_view_module": "@jupyter-widgets/base",
            "_view_module_version": "1.2.0",
            "_view_name": "StyleView",
            "description_width": ""
          }
        },
        "78af48e950744669aae3f330bf5af4a0": {
          "model_module": "@jupyter-widgets/base",
          "model_name": "LayoutModel",
          "model_module_version": "1.2.0",
          "state": {
            "_model_module": "@jupyter-widgets/base",
            "_model_module_version": "1.2.0",
            "_model_name": "LayoutModel",
            "_view_count": null,
            "_view_module": "@jupyter-widgets/base",
            "_view_module_version": "1.2.0",
            "_view_name": "LayoutView",
            "align_content": null,
            "align_items": null,
            "align_self": null,
            "border": null,
            "bottom": null,
            "display": null,
            "flex": null,
            "flex_flow": null,
            "grid_area": null,
            "grid_auto_columns": null,
            "grid_auto_flow": null,
            "grid_auto_rows": null,
            "grid_column": null,
            "grid_gap": null,
            "grid_row": null,
            "grid_template_areas": null,
            "grid_template_columns": null,
            "grid_template_rows": null,
            "height": null,
            "justify_content": null,
            "justify_items": null,
            "left": null,
            "margin": null,
            "max_height": null,
            "max_width": null,
            "min_height": null,
            "min_width": null,
            "object_fit": null,
            "object_position": null,
            "order": null,
            "overflow": null,
            "overflow_x": null,
            "overflow_y": null,
            "padding": null,
            "right": null,
            "top": null,
            "visibility": null,
            "width": null
          }
        },
        "46c2a1e03b504a4fabea5e8e1328cc45": {
          "model_module": "@jupyter-widgets/controls",
          "model_name": "ProgressStyleModel",
          "model_module_version": "1.5.0",
          "state": {
            "_model_module": "@jupyter-widgets/controls",
            "_model_module_version": "1.5.0",
            "_model_name": "ProgressStyleModel",
            "_view_count": null,
            "_view_module": "@jupyter-widgets/base",
            "_view_module_version": "1.2.0",
            "_view_name": "StyleView",
            "bar_color": null,
            "description_width": ""
          }
        },
        "8e3f2ec80cb045b6bba43395070b0094": {
          "model_module": "@jupyter-widgets/base",
          "model_name": "LayoutModel",
          "model_module_version": "1.2.0",
          "state": {
            "_model_module": "@jupyter-widgets/base",
            "_model_module_version": "1.2.0",
            "_model_name": "LayoutModel",
            "_view_count": null,
            "_view_module": "@jupyter-widgets/base",
            "_view_module_version": "1.2.0",
            "_view_name": "LayoutView",
            "align_content": null,
            "align_items": null,
            "align_self": null,
            "border": null,
            "bottom": null,
            "display": null,
            "flex": null,
            "flex_flow": null,
            "grid_area": null,
            "grid_auto_columns": null,
            "grid_auto_flow": null,
            "grid_auto_rows": null,
            "grid_column": null,
            "grid_gap": null,
            "grid_row": null,
            "grid_template_areas": null,
            "grid_template_columns": null,
            "grid_template_rows": null,
            "height": null,
            "justify_content": null,
            "justify_items": null,
            "left": null,
            "margin": null,
            "max_height": null,
            "max_width": null,
            "min_height": null,
            "min_width": null,
            "object_fit": null,
            "object_position": null,
            "order": null,
            "overflow": null,
            "overflow_x": null,
            "overflow_y": null,
            "padding": null,
            "right": null,
            "top": null,
            "visibility": null,
            "width": null
          }
        },
        "d0e532ceaf204723a20d239dd0114334": {
          "model_module": "@jupyter-widgets/controls",
          "model_name": "DescriptionStyleModel",
          "model_module_version": "1.5.0",
          "state": {
            "_model_module": "@jupyter-widgets/controls",
            "_model_module_version": "1.5.0",
            "_model_name": "DescriptionStyleModel",
            "_view_count": null,
            "_view_module": "@jupyter-widgets/base",
            "_view_module_version": "1.2.0",
            "_view_name": "StyleView",
            "description_width": ""
          }
        },
        "44adb370cdb24cf0bb0c19be9d327da7": {
          "model_module": "@jupyter-widgets/controls",
          "model_name": "HBoxModel",
          "model_module_version": "1.5.0",
          "state": {
            "_dom_classes": [],
            "_model_module": "@jupyter-widgets/controls",
            "_model_module_version": "1.5.0",
            "_model_name": "HBoxModel",
            "_view_count": null,
            "_view_module": "@jupyter-widgets/controls",
            "_view_module_version": "1.5.0",
            "_view_name": "HBoxView",
            "box_style": "",
            "children": [
              "IPY_MODEL_9949f151d5974684a8b4dd0eb45afe1a",
              "IPY_MODEL_222afbaf745a4f4bbe274f2910d4bffb",
              "IPY_MODEL_bc23c83ce5ca48aaa17c911af77dc96e"
            ],
            "layout": "IPY_MODEL_d7fb43d65ae14a3cba25684e9864d719"
          }
        },
        "9949f151d5974684a8b4dd0eb45afe1a": {
          "model_module": "@jupyter-widgets/controls",
          "model_name": "HTMLModel",
          "model_module_version": "1.5.0",
          "state": {
            "_dom_classes": [],
            "_model_module": "@jupyter-widgets/controls",
            "_model_module_version": "1.5.0",
            "_model_name": "HTMLModel",
            "_view_count": null,
            "_view_module": "@jupyter-widgets/controls",
            "_view_module_version": "1.5.0",
            "_view_name": "HTMLView",
            "description": "",
            "description_tooltip": null,
            "layout": "IPY_MODEL_7d307dfa4c914f6a96da3d05253ea9a0",
            "placeholder": "​",
            "style": "IPY_MODEL_9b01a3559b684e4ab37b4e133fbb4207",
            "value": "config.json: 100%"
          }
        },
        "222afbaf745a4f4bbe274f2910d4bffb": {
          "model_module": "@jupyter-widgets/controls",
          "model_name": "FloatProgressModel",
          "model_module_version": "1.5.0",
          "state": {
            "_dom_classes": [],
            "_model_module": "@jupyter-widgets/controls",
            "_model_module_version": "1.5.0",
            "_model_name": "FloatProgressModel",
            "_view_count": null,
            "_view_module": "@jupyter-widgets/controls",
            "_view_module_version": "1.5.0",
            "_view_name": "ProgressView",
            "bar_style": "success",
            "description": "",
            "description_tooltip": null,
            "layout": "IPY_MODEL_4b8ec0a6687c43a29b285dfd504d1bf3",
            "max": 570,
            "min": 0,
            "orientation": "horizontal",
            "style": "IPY_MODEL_2b604eda826d40e4be68a78348bccd70",
            "value": 570
          }
        },
        "bc23c83ce5ca48aaa17c911af77dc96e": {
          "model_module": "@jupyter-widgets/controls",
          "model_name": "HTMLModel",
          "model_module_version": "1.5.0",
          "state": {
            "_dom_classes": [],
            "_model_module": "@jupyter-widgets/controls",
            "_model_module_version": "1.5.0",
            "_model_name": "HTMLModel",
            "_view_count": null,
            "_view_module": "@jupyter-widgets/controls",
            "_view_module_version": "1.5.0",
            "_view_name": "HTMLView",
            "description": "",
            "description_tooltip": null,
            "layout": "IPY_MODEL_e3c0b3ead97f45388b2a2afb5b8369e5",
            "placeholder": "​",
            "style": "IPY_MODEL_d938592d767c4a4fbf33f7cd4eabad9a",
            "value": " 570/570 [00:00&lt;00:00, 29.0kB/s]"
          }
        },
        "d7fb43d65ae14a3cba25684e9864d719": {
          "model_module": "@jupyter-widgets/base",
          "model_name": "LayoutModel",
          "model_module_version": "1.2.0",
          "state": {
            "_model_module": "@jupyter-widgets/base",
            "_model_module_version": "1.2.0",
            "_model_name": "LayoutModel",
            "_view_count": null,
            "_view_module": "@jupyter-widgets/base",
            "_view_module_version": "1.2.0",
            "_view_name": "LayoutView",
            "align_content": null,
            "align_items": null,
            "align_self": null,
            "border": null,
            "bottom": null,
            "display": null,
            "flex": null,
            "flex_flow": null,
            "grid_area": null,
            "grid_auto_columns": null,
            "grid_auto_flow": null,
            "grid_auto_rows": null,
            "grid_column": null,
            "grid_gap": null,
            "grid_row": null,
            "grid_template_areas": null,
            "grid_template_columns": null,
            "grid_template_rows": null,
            "height": null,
            "justify_content": null,
            "justify_items": null,
            "left": null,
            "margin": null,
            "max_height": null,
            "max_width": null,
            "min_height": null,
            "min_width": null,
            "object_fit": null,
            "object_position": null,
            "order": null,
            "overflow": null,
            "overflow_x": null,
            "overflow_y": null,
            "padding": null,
            "right": null,
            "top": null,
            "visibility": null,
            "width": null
          }
        },
        "7d307dfa4c914f6a96da3d05253ea9a0": {
          "model_module": "@jupyter-widgets/base",
          "model_name": "LayoutModel",
          "model_module_version": "1.2.0",
          "state": {
            "_model_module": "@jupyter-widgets/base",
            "_model_module_version": "1.2.0",
            "_model_name": "LayoutModel",
            "_view_count": null,
            "_view_module": "@jupyter-widgets/base",
            "_view_module_version": "1.2.0",
            "_view_name": "LayoutView",
            "align_content": null,
            "align_items": null,
            "align_self": null,
            "border": null,
            "bottom": null,
            "display": null,
            "flex": null,
            "flex_flow": null,
            "grid_area": null,
            "grid_auto_columns": null,
            "grid_auto_flow": null,
            "grid_auto_rows": null,
            "grid_column": null,
            "grid_gap": null,
            "grid_row": null,
            "grid_template_areas": null,
            "grid_template_columns": null,
            "grid_template_rows": null,
            "height": null,
            "justify_content": null,
            "justify_items": null,
            "left": null,
            "margin": null,
            "max_height": null,
            "max_width": null,
            "min_height": null,
            "min_width": null,
            "object_fit": null,
            "object_position": null,
            "order": null,
            "overflow": null,
            "overflow_x": null,
            "overflow_y": null,
            "padding": null,
            "right": null,
            "top": null,
            "visibility": null,
            "width": null
          }
        },
        "9b01a3559b684e4ab37b4e133fbb4207": {
          "model_module": "@jupyter-widgets/controls",
          "model_name": "DescriptionStyleModel",
          "model_module_version": "1.5.0",
          "state": {
            "_model_module": "@jupyter-widgets/controls",
            "_model_module_version": "1.5.0",
            "_model_name": "DescriptionStyleModel",
            "_view_count": null,
            "_view_module": "@jupyter-widgets/base",
            "_view_module_version": "1.2.0",
            "_view_name": "StyleView",
            "description_width": ""
          }
        },
        "4b8ec0a6687c43a29b285dfd504d1bf3": {
          "model_module": "@jupyter-widgets/base",
          "model_name": "LayoutModel",
          "model_module_version": "1.2.0",
          "state": {
            "_model_module": "@jupyter-widgets/base",
            "_model_module_version": "1.2.0",
            "_model_name": "LayoutModel",
            "_view_count": null,
            "_view_module": "@jupyter-widgets/base",
            "_view_module_version": "1.2.0",
            "_view_name": "LayoutView",
            "align_content": null,
            "align_items": null,
            "align_self": null,
            "border": null,
            "bottom": null,
            "display": null,
            "flex": null,
            "flex_flow": null,
            "grid_area": null,
            "grid_auto_columns": null,
            "grid_auto_flow": null,
            "grid_auto_rows": null,
            "grid_column": null,
            "grid_gap": null,
            "grid_row": null,
            "grid_template_areas": null,
            "grid_template_columns": null,
            "grid_template_rows": null,
            "height": null,
            "justify_content": null,
            "justify_items": null,
            "left": null,
            "margin": null,
            "max_height": null,
            "max_width": null,
            "min_height": null,
            "min_width": null,
            "object_fit": null,
            "object_position": null,
            "order": null,
            "overflow": null,
            "overflow_x": null,
            "overflow_y": null,
            "padding": null,
            "right": null,
            "top": null,
            "visibility": null,
            "width": null
          }
        },
        "2b604eda826d40e4be68a78348bccd70": {
          "model_module": "@jupyter-widgets/controls",
          "model_name": "ProgressStyleModel",
          "model_module_version": "1.5.0",
          "state": {
            "_model_module": "@jupyter-widgets/controls",
            "_model_module_version": "1.5.0",
            "_model_name": "ProgressStyleModel",
            "_view_count": null,
            "_view_module": "@jupyter-widgets/base",
            "_view_module_version": "1.2.0",
            "_view_name": "StyleView",
            "bar_color": null,
            "description_width": ""
          }
        },
        "e3c0b3ead97f45388b2a2afb5b8369e5": {
          "model_module": "@jupyter-widgets/base",
          "model_name": "LayoutModel",
          "model_module_version": "1.2.0",
          "state": {
            "_model_module": "@jupyter-widgets/base",
            "_model_module_version": "1.2.0",
            "_model_name": "LayoutModel",
            "_view_count": null,
            "_view_module": "@jupyter-widgets/base",
            "_view_module_version": "1.2.0",
            "_view_name": "LayoutView",
            "align_content": null,
            "align_items": null,
            "align_self": null,
            "border": null,
            "bottom": null,
            "display": null,
            "flex": null,
            "flex_flow": null,
            "grid_area": null,
            "grid_auto_columns": null,
            "grid_auto_flow": null,
            "grid_auto_rows": null,
            "grid_column": null,
            "grid_gap": null,
            "grid_row": null,
            "grid_template_areas": null,
            "grid_template_columns": null,
            "grid_template_rows": null,
            "height": null,
            "justify_content": null,
            "justify_items": null,
            "left": null,
            "margin": null,
            "max_height": null,
            "max_width": null,
            "min_height": null,
            "min_width": null,
            "object_fit": null,
            "object_position": null,
            "order": null,
            "overflow": null,
            "overflow_x": null,
            "overflow_y": null,
            "padding": null,
            "right": null,
            "top": null,
            "visibility": null,
            "width": null
          }
        },
        "d938592d767c4a4fbf33f7cd4eabad9a": {
          "model_module": "@jupyter-widgets/controls",
          "model_name": "DescriptionStyleModel",
          "model_module_version": "1.5.0",
          "state": {
            "_model_module": "@jupyter-widgets/controls",
            "_model_module_version": "1.5.0",
            "_model_name": "DescriptionStyleModel",
            "_view_count": null,
            "_view_module": "@jupyter-widgets/base",
            "_view_module_version": "1.2.0",
            "_view_name": "StyleView",
            "description_width": ""
          }
        },
        "815303a0d55d4db9b22e9d5a5e2e9081": {
          "model_module": "@jupyter-widgets/controls",
          "model_name": "HBoxModel",
          "model_module_version": "1.5.0",
          "state": {
            "_dom_classes": [],
            "_model_module": "@jupyter-widgets/controls",
            "_model_module_version": "1.5.0",
            "_model_name": "HBoxModel",
            "_view_count": null,
            "_view_module": "@jupyter-widgets/controls",
            "_view_module_version": "1.5.0",
            "_view_name": "HBoxView",
            "box_style": "",
            "children": [
              "IPY_MODEL_72545131c63c46d481f416a6295bd1f3",
              "IPY_MODEL_948c8851f782478a879467d208ba1bbc",
              "IPY_MODEL_f242348216b74e5bac275ee0547d3c3b"
            ],
            "layout": "IPY_MODEL_16cee2198e144f03b2909f5351d68d03"
          }
        },
        "72545131c63c46d481f416a6295bd1f3": {
          "model_module": "@jupyter-widgets/controls",
          "model_name": "HTMLModel",
          "model_module_version": "1.5.0",
          "state": {
            "_dom_classes": [],
            "_model_module": "@jupyter-widgets/controls",
            "_model_module_version": "1.5.0",
            "_model_name": "HTMLModel",
            "_view_count": null,
            "_view_module": "@jupyter-widgets/controls",
            "_view_module_version": "1.5.0",
            "_view_name": "HTMLView",
            "description": "",
            "description_tooltip": null,
            "layout": "IPY_MODEL_d4f852cb885045f3a8886ef285ab5317",
            "placeholder": "​",
            "style": "IPY_MODEL_2287d092a5e145a89b35e30bad0bf175",
            "value": "vocab.txt: 100%"
          }
        },
        "948c8851f782478a879467d208ba1bbc": {
          "model_module": "@jupyter-widgets/controls",
          "model_name": "FloatProgressModel",
          "model_module_version": "1.5.0",
          "state": {
            "_dom_classes": [],
            "_model_module": "@jupyter-widgets/controls",
            "_model_module_version": "1.5.0",
            "_model_name": "FloatProgressModel",
            "_view_count": null,
            "_view_module": "@jupyter-widgets/controls",
            "_view_module_version": "1.5.0",
            "_view_name": "ProgressView",
            "bar_style": "success",
            "description": "",
            "description_tooltip": null,
            "layout": "IPY_MODEL_e6ed67d63cf44770adedb5836c66a839",
            "max": 231508,
            "min": 0,
            "orientation": "horizontal",
            "style": "IPY_MODEL_2c6e7b4d8d374159b735d4bb06124881",
            "value": 231508
          }
        },
        "f242348216b74e5bac275ee0547d3c3b": {
          "model_module": "@jupyter-widgets/controls",
          "model_name": "HTMLModel",
          "model_module_version": "1.5.0",
          "state": {
            "_dom_classes": [],
            "_model_module": "@jupyter-widgets/controls",
            "_model_module_version": "1.5.0",
            "_model_name": "HTMLModel",
            "_view_count": null,
            "_view_module": "@jupyter-widgets/controls",
            "_view_module_version": "1.5.0",
            "_view_name": "HTMLView",
            "description": "",
            "description_tooltip": null,
            "layout": "IPY_MODEL_fc94a015c0d148599e1e1b1db70af340",
            "placeholder": "​",
            "style": "IPY_MODEL_034bfde80ecd4e799187e8caa9baf62f",
            "value": " 232k/232k [00:00&lt;00:00, 2.88MB/s]"
          }
        },
        "16cee2198e144f03b2909f5351d68d03": {
          "model_module": "@jupyter-widgets/base",
          "model_name": "LayoutModel",
          "model_module_version": "1.2.0",
          "state": {
            "_model_module": "@jupyter-widgets/base",
            "_model_module_version": "1.2.0",
            "_model_name": "LayoutModel",
            "_view_count": null,
            "_view_module": "@jupyter-widgets/base",
            "_view_module_version": "1.2.0",
            "_view_name": "LayoutView",
            "align_content": null,
            "align_items": null,
            "align_self": null,
            "border": null,
            "bottom": null,
            "display": null,
            "flex": null,
            "flex_flow": null,
            "grid_area": null,
            "grid_auto_columns": null,
            "grid_auto_flow": null,
            "grid_auto_rows": null,
            "grid_column": null,
            "grid_gap": null,
            "grid_row": null,
            "grid_template_areas": null,
            "grid_template_columns": null,
            "grid_template_rows": null,
            "height": null,
            "justify_content": null,
            "justify_items": null,
            "left": null,
            "margin": null,
            "max_height": null,
            "max_width": null,
            "min_height": null,
            "min_width": null,
            "object_fit": null,
            "object_position": null,
            "order": null,
            "overflow": null,
            "overflow_x": null,
            "overflow_y": null,
            "padding": null,
            "right": null,
            "top": null,
            "visibility": null,
            "width": null
          }
        },
        "d4f852cb885045f3a8886ef285ab5317": {
          "model_module": "@jupyter-widgets/base",
          "model_name": "LayoutModel",
          "model_module_version": "1.2.0",
          "state": {
            "_model_module": "@jupyter-widgets/base",
            "_model_module_version": "1.2.0",
            "_model_name": "LayoutModel",
            "_view_count": null,
            "_view_module": "@jupyter-widgets/base",
            "_view_module_version": "1.2.0",
            "_view_name": "LayoutView",
            "align_content": null,
            "align_items": null,
            "align_self": null,
            "border": null,
            "bottom": null,
            "display": null,
            "flex": null,
            "flex_flow": null,
            "grid_area": null,
            "grid_auto_columns": null,
            "grid_auto_flow": null,
            "grid_auto_rows": null,
            "grid_column": null,
            "grid_gap": null,
            "grid_row": null,
            "grid_template_areas": null,
            "grid_template_columns": null,
            "grid_template_rows": null,
            "height": null,
            "justify_content": null,
            "justify_items": null,
            "left": null,
            "margin": null,
            "max_height": null,
            "max_width": null,
            "min_height": null,
            "min_width": null,
            "object_fit": null,
            "object_position": null,
            "order": null,
            "overflow": null,
            "overflow_x": null,
            "overflow_y": null,
            "padding": null,
            "right": null,
            "top": null,
            "visibility": null,
            "width": null
          }
        },
        "2287d092a5e145a89b35e30bad0bf175": {
          "model_module": "@jupyter-widgets/controls",
          "model_name": "DescriptionStyleModel",
          "model_module_version": "1.5.0",
          "state": {
            "_model_module": "@jupyter-widgets/controls",
            "_model_module_version": "1.5.0",
            "_model_name": "DescriptionStyleModel",
            "_view_count": null,
            "_view_module": "@jupyter-widgets/base",
            "_view_module_version": "1.2.0",
            "_view_name": "StyleView",
            "description_width": ""
          }
        },
        "e6ed67d63cf44770adedb5836c66a839": {
          "model_module": "@jupyter-widgets/base",
          "model_name": "LayoutModel",
          "model_module_version": "1.2.0",
          "state": {
            "_model_module": "@jupyter-widgets/base",
            "_model_module_version": "1.2.0",
            "_model_name": "LayoutModel",
            "_view_count": null,
            "_view_module": "@jupyter-widgets/base",
            "_view_module_version": "1.2.0",
            "_view_name": "LayoutView",
            "align_content": null,
            "align_items": null,
            "align_self": null,
            "border": null,
            "bottom": null,
            "display": null,
            "flex": null,
            "flex_flow": null,
            "grid_area": null,
            "grid_auto_columns": null,
            "grid_auto_flow": null,
            "grid_auto_rows": null,
            "grid_column": null,
            "grid_gap": null,
            "grid_row": null,
            "grid_template_areas": null,
            "grid_template_columns": null,
            "grid_template_rows": null,
            "height": null,
            "justify_content": null,
            "justify_items": null,
            "left": null,
            "margin": null,
            "max_height": null,
            "max_width": null,
            "min_height": null,
            "min_width": null,
            "object_fit": null,
            "object_position": null,
            "order": null,
            "overflow": null,
            "overflow_x": null,
            "overflow_y": null,
            "padding": null,
            "right": null,
            "top": null,
            "visibility": null,
            "width": null
          }
        },
        "2c6e7b4d8d374159b735d4bb06124881": {
          "model_module": "@jupyter-widgets/controls",
          "model_name": "ProgressStyleModel",
          "model_module_version": "1.5.0",
          "state": {
            "_model_module": "@jupyter-widgets/controls",
            "_model_module_version": "1.5.0",
            "_model_name": "ProgressStyleModel",
            "_view_count": null,
            "_view_module": "@jupyter-widgets/base",
            "_view_module_version": "1.2.0",
            "_view_name": "StyleView",
            "bar_color": null,
            "description_width": ""
          }
        },
        "fc94a015c0d148599e1e1b1db70af340": {
          "model_module": "@jupyter-widgets/base",
          "model_name": "LayoutModel",
          "model_module_version": "1.2.0",
          "state": {
            "_model_module": "@jupyter-widgets/base",
            "_model_module_version": "1.2.0",
            "_model_name": "LayoutModel",
            "_view_count": null,
            "_view_module": "@jupyter-widgets/base",
            "_view_module_version": "1.2.0",
            "_view_name": "LayoutView",
            "align_content": null,
            "align_items": null,
            "align_self": null,
            "border": null,
            "bottom": null,
            "display": null,
            "flex": null,
            "flex_flow": null,
            "grid_area": null,
            "grid_auto_columns": null,
            "grid_auto_flow": null,
            "grid_auto_rows": null,
            "grid_column": null,
            "grid_gap": null,
            "grid_row": null,
            "grid_template_areas": null,
            "grid_template_columns": null,
            "grid_template_rows": null,
            "height": null,
            "justify_content": null,
            "justify_items": null,
            "left": null,
            "margin": null,
            "max_height": null,
            "max_width": null,
            "min_height": null,
            "min_width": null,
            "object_fit": null,
            "object_position": null,
            "order": null,
            "overflow": null,
            "overflow_x": null,
            "overflow_y": null,
            "padding": null,
            "right": null,
            "top": null,
            "visibility": null,
            "width": null
          }
        },
        "034bfde80ecd4e799187e8caa9baf62f": {
          "model_module": "@jupyter-widgets/controls",
          "model_name": "DescriptionStyleModel",
          "model_module_version": "1.5.0",
          "state": {
            "_model_module": "@jupyter-widgets/controls",
            "_model_module_version": "1.5.0",
            "_model_name": "DescriptionStyleModel",
            "_view_count": null,
            "_view_module": "@jupyter-widgets/base",
            "_view_module_version": "1.2.0",
            "_view_name": "StyleView",
            "description_width": ""
          }
        },
        "10d28bab06d94f619c72295d11e17aba": {
          "model_module": "@jupyter-widgets/controls",
          "model_name": "HBoxModel",
          "model_module_version": "1.5.0",
          "state": {
            "_dom_classes": [],
            "_model_module": "@jupyter-widgets/controls",
            "_model_module_version": "1.5.0",
            "_model_name": "HBoxModel",
            "_view_count": null,
            "_view_module": "@jupyter-widgets/controls",
            "_view_module_version": "1.5.0",
            "_view_name": "HBoxView",
            "box_style": "",
            "children": [
              "IPY_MODEL_11192b1a553c44568d590afae3bb3209",
              "IPY_MODEL_84c186e3a3cc4700a7a24b87f4b54a90",
              "IPY_MODEL_3173584f90e8479488ec0bcec0b1e212"
            ],
            "layout": "IPY_MODEL_ebe6e9fd43f644d681ed1b3fbe1eebef"
          }
        },
        "11192b1a553c44568d590afae3bb3209": {
          "model_module": "@jupyter-widgets/controls",
          "model_name": "HTMLModel",
          "model_module_version": "1.5.0",
          "state": {
            "_dom_classes": [],
            "_model_module": "@jupyter-widgets/controls",
            "_model_module_version": "1.5.0",
            "_model_name": "HTMLModel",
            "_view_count": null,
            "_view_module": "@jupyter-widgets/controls",
            "_view_module_version": "1.5.0",
            "_view_name": "HTMLView",
            "description": "",
            "description_tooltip": null,
            "layout": "IPY_MODEL_a93bbc3ae3a44b8aa2ab753eadef9479",
            "placeholder": "​",
            "style": "IPY_MODEL_54c6f82f04f74857812602b69ae01d33",
            "value": "tokenizer.json: 100%"
          }
        },
        "84c186e3a3cc4700a7a24b87f4b54a90": {
          "model_module": "@jupyter-widgets/controls",
          "model_name": "FloatProgressModel",
          "model_module_version": "1.5.0",
          "state": {
            "_dom_classes": [],
            "_model_module": "@jupyter-widgets/controls",
            "_model_module_version": "1.5.0",
            "_model_name": "FloatProgressModel",
            "_view_count": null,
            "_view_module": "@jupyter-widgets/controls",
            "_view_module_version": "1.5.0",
            "_view_name": "ProgressView",
            "bar_style": "success",
            "description": "",
            "description_tooltip": null,
            "layout": "IPY_MODEL_e031e13326614c3db773feebb2969fc7",
            "max": 466062,
            "min": 0,
            "orientation": "horizontal",
            "style": "IPY_MODEL_1e011d05ce224910a2ee7c45a5f596ff",
            "value": 466062
          }
        },
        "3173584f90e8479488ec0bcec0b1e212": {
          "model_module": "@jupyter-widgets/controls",
          "model_name": "HTMLModel",
          "model_module_version": "1.5.0",
          "state": {
            "_dom_classes": [],
            "_model_module": "@jupyter-widgets/controls",
            "_model_module_version": "1.5.0",
            "_model_name": "HTMLModel",
            "_view_count": null,
            "_view_module": "@jupyter-widgets/controls",
            "_view_module_version": "1.5.0",
            "_view_name": "HTMLView",
            "description": "",
            "description_tooltip": null,
            "layout": "IPY_MODEL_89d1c741f7844e5dbd2fb3c67b41f993",
            "placeholder": "​",
            "style": "IPY_MODEL_ea7f5c6a348345ac8b627c6755b70a73",
            "value": " 466k/466k [00:00&lt;00:00, 2.34MB/s]"
          }
        },
        "ebe6e9fd43f644d681ed1b3fbe1eebef": {
          "model_module": "@jupyter-widgets/base",
          "model_name": "LayoutModel",
          "model_module_version": "1.2.0",
          "state": {
            "_model_module": "@jupyter-widgets/base",
            "_model_module_version": "1.2.0",
            "_model_name": "LayoutModel",
            "_view_count": null,
            "_view_module": "@jupyter-widgets/base",
            "_view_module_version": "1.2.0",
            "_view_name": "LayoutView",
            "align_content": null,
            "align_items": null,
            "align_self": null,
            "border": null,
            "bottom": null,
            "display": null,
            "flex": null,
            "flex_flow": null,
            "grid_area": null,
            "grid_auto_columns": null,
            "grid_auto_flow": null,
            "grid_auto_rows": null,
            "grid_column": null,
            "grid_gap": null,
            "grid_row": null,
            "grid_template_areas": null,
            "grid_template_columns": null,
            "grid_template_rows": null,
            "height": null,
            "justify_content": null,
            "justify_items": null,
            "left": null,
            "margin": null,
            "max_height": null,
            "max_width": null,
            "min_height": null,
            "min_width": null,
            "object_fit": null,
            "object_position": null,
            "order": null,
            "overflow": null,
            "overflow_x": null,
            "overflow_y": null,
            "padding": null,
            "right": null,
            "top": null,
            "visibility": null,
            "width": null
          }
        },
        "a93bbc3ae3a44b8aa2ab753eadef9479": {
          "model_module": "@jupyter-widgets/base",
          "model_name": "LayoutModel",
          "model_module_version": "1.2.0",
          "state": {
            "_model_module": "@jupyter-widgets/base",
            "_model_module_version": "1.2.0",
            "_model_name": "LayoutModel",
            "_view_count": null,
            "_view_module": "@jupyter-widgets/base",
            "_view_module_version": "1.2.0",
            "_view_name": "LayoutView",
            "align_content": null,
            "align_items": null,
            "align_self": null,
            "border": null,
            "bottom": null,
            "display": null,
            "flex": null,
            "flex_flow": null,
            "grid_area": null,
            "grid_auto_columns": null,
            "grid_auto_flow": null,
            "grid_auto_rows": null,
            "grid_column": null,
            "grid_gap": null,
            "grid_row": null,
            "grid_template_areas": null,
            "grid_template_columns": null,
            "grid_template_rows": null,
            "height": null,
            "justify_content": null,
            "justify_items": null,
            "left": null,
            "margin": null,
            "max_height": null,
            "max_width": null,
            "min_height": null,
            "min_width": null,
            "object_fit": null,
            "object_position": null,
            "order": null,
            "overflow": null,
            "overflow_x": null,
            "overflow_y": null,
            "padding": null,
            "right": null,
            "top": null,
            "visibility": null,
            "width": null
          }
        },
        "54c6f82f04f74857812602b69ae01d33": {
          "model_module": "@jupyter-widgets/controls",
          "model_name": "DescriptionStyleModel",
          "model_module_version": "1.5.0",
          "state": {
            "_model_module": "@jupyter-widgets/controls",
            "_model_module_version": "1.5.0",
            "_model_name": "DescriptionStyleModel",
            "_view_count": null,
            "_view_module": "@jupyter-widgets/base",
            "_view_module_version": "1.2.0",
            "_view_name": "StyleView",
            "description_width": ""
          }
        },
        "e031e13326614c3db773feebb2969fc7": {
          "model_module": "@jupyter-widgets/base",
          "model_name": "LayoutModel",
          "model_module_version": "1.2.0",
          "state": {
            "_model_module": "@jupyter-widgets/base",
            "_model_module_version": "1.2.0",
            "_model_name": "LayoutModel",
            "_view_count": null,
            "_view_module": "@jupyter-widgets/base",
            "_view_module_version": "1.2.0",
            "_view_name": "LayoutView",
            "align_content": null,
            "align_items": null,
            "align_self": null,
            "border": null,
            "bottom": null,
            "display": null,
            "flex": null,
            "flex_flow": null,
            "grid_area": null,
            "grid_auto_columns": null,
            "grid_auto_flow": null,
            "grid_auto_rows": null,
            "grid_column": null,
            "grid_gap": null,
            "grid_row": null,
            "grid_template_areas": null,
            "grid_template_columns": null,
            "grid_template_rows": null,
            "height": null,
            "justify_content": null,
            "justify_items": null,
            "left": null,
            "margin": null,
            "max_height": null,
            "max_width": null,
            "min_height": null,
            "min_width": null,
            "object_fit": null,
            "object_position": null,
            "order": null,
            "overflow": null,
            "overflow_x": null,
            "overflow_y": null,
            "padding": null,
            "right": null,
            "top": null,
            "visibility": null,
            "width": null
          }
        },
        "1e011d05ce224910a2ee7c45a5f596ff": {
          "model_module": "@jupyter-widgets/controls",
          "model_name": "ProgressStyleModel",
          "model_module_version": "1.5.0",
          "state": {
            "_model_module": "@jupyter-widgets/controls",
            "_model_module_version": "1.5.0",
            "_model_name": "ProgressStyleModel",
            "_view_count": null,
            "_view_module": "@jupyter-widgets/base",
            "_view_module_version": "1.2.0",
            "_view_name": "StyleView",
            "bar_color": null,
            "description_width": ""
          }
        },
        "89d1c741f7844e5dbd2fb3c67b41f993": {
          "model_module": "@jupyter-widgets/base",
          "model_name": "LayoutModel",
          "model_module_version": "1.2.0",
          "state": {
            "_model_module": "@jupyter-widgets/base",
            "_model_module_version": "1.2.0",
            "_model_name": "LayoutModel",
            "_view_count": null,
            "_view_module": "@jupyter-widgets/base",
            "_view_module_version": "1.2.0",
            "_view_name": "LayoutView",
            "align_content": null,
            "align_items": null,
            "align_self": null,
            "border": null,
            "bottom": null,
            "display": null,
            "flex": null,
            "flex_flow": null,
            "grid_area": null,
            "grid_auto_columns": null,
            "grid_auto_flow": null,
            "grid_auto_rows": null,
            "grid_column": null,
            "grid_gap": null,
            "grid_row": null,
            "grid_template_areas": null,
            "grid_template_columns": null,
            "grid_template_rows": null,
            "height": null,
            "justify_content": null,
            "justify_items": null,
            "left": null,
            "margin": null,
            "max_height": null,
            "max_width": null,
            "min_height": null,
            "min_width": null,
            "object_fit": null,
            "object_position": null,
            "order": null,
            "overflow": null,
            "overflow_x": null,
            "overflow_y": null,
            "padding": null,
            "right": null,
            "top": null,
            "visibility": null,
            "width": null
          }
        },
        "ea7f5c6a348345ac8b627c6755b70a73": {
          "model_module": "@jupyter-widgets/controls",
          "model_name": "DescriptionStyleModel",
          "model_module_version": "1.5.0",
          "state": {
            "_model_module": "@jupyter-widgets/controls",
            "_model_module_version": "1.5.0",
            "_model_name": "DescriptionStyleModel",
            "_view_count": null,
            "_view_module": "@jupyter-widgets/base",
            "_view_module_version": "1.2.0",
            "_view_name": "StyleView",
            "description_width": ""
          }
        },
        "3c32a3602cbc4b318f8680be00776858": {
          "model_module": "@jupyter-widgets/controls",
          "model_name": "HBoxModel",
          "model_module_version": "1.5.0",
          "state": {
            "_dom_classes": [],
            "_model_module": "@jupyter-widgets/controls",
            "_model_module_version": "1.5.0",
            "_model_name": "HBoxModel",
            "_view_count": null,
            "_view_module": "@jupyter-widgets/controls",
            "_view_module_version": "1.5.0",
            "_view_name": "HBoxView",
            "box_style": "",
            "children": [
              "IPY_MODEL_a87a90f6cd6b4ebc8c2316c01541ad68",
              "IPY_MODEL_600112782643481e9273884c53bc81e9",
              "IPY_MODEL_a1728424e72a4953b5c7606070cabcfb"
            ],
            "layout": "IPY_MODEL_fb8afa5c306a441fb56f56ac554e2203"
          }
        },
        "a87a90f6cd6b4ebc8c2316c01541ad68": {
          "model_module": "@jupyter-widgets/controls",
          "model_name": "HTMLModel",
          "model_module_version": "1.5.0",
          "state": {
            "_dom_classes": [],
            "_model_module": "@jupyter-widgets/controls",
            "_model_module_version": "1.5.0",
            "_model_name": "HTMLModel",
            "_view_count": null,
            "_view_module": "@jupyter-widgets/controls",
            "_view_module_version": "1.5.0",
            "_view_name": "HTMLView",
            "description": "",
            "description_tooltip": null,
            "layout": "IPY_MODEL_d1ea5a6ae1c2464297fea2c190d9cfcc",
            "placeholder": "​",
            "style": "IPY_MODEL_31c3dd9169b24399bb84a67e8f07c4cf",
            "value": "model.safetensors: 100%"
          }
        },
        "600112782643481e9273884c53bc81e9": {
          "model_module": "@jupyter-widgets/controls",
          "model_name": "FloatProgressModel",
          "model_module_version": "1.5.0",
          "state": {
            "_dom_classes": [],
            "_model_module": "@jupyter-widgets/controls",
            "_model_module_version": "1.5.0",
            "_model_name": "FloatProgressModel",
            "_view_count": null,
            "_view_module": "@jupyter-widgets/controls",
            "_view_module_version": "1.5.0",
            "_view_name": "ProgressView",
            "bar_style": "success",
            "description": "",
            "description_tooltip": null,
            "layout": "IPY_MODEL_29660fe6538c431ab743dcddf5265ba0",
            "max": 440449768,
            "min": 0,
            "orientation": "horizontal",
            "style": "IPY_MODEL_3583acee78af4b7eacd647617904c6ce",
            "value": 440449768
          }
        },
        "a1728424e72a4953b5c7606070cabcfb": {
          "model_module": "@jupyter-widgets/controls",
          "model_name": "HTMLModel",
          "model_module_version": "1.5.0",
          "state": {
            "_dom_classes": [],
            "_model_module": "@jupyter-widgets/controls",
            "_model_module_version": "1.5.0",
            "_model_name": "HTMLModel",
            "_view_count": null,
            "_view_module": "@jupyter-widgets/controls",
            "_view_module_version": "1.5.0",
            "_view_name": "HTMLView",
            "description": "",
            "description_tooltip": null,
            "layout": "IPY_MODEL_781995fb18fd4fbda44e235011e06335",
            "placeholder": "​",
            "style": "IPY_MODEL_a6f67bf3ff4b47dfafb7d3d7e610ef7d",
            "value": " 440M/440M [00:06&lt;00:00, 82.3MB/s]"
          }
        },
        "fb8afa5c306a441fb56f56ac554e2203": {
          "model_module": "@jupyter-widgets/base",
          "model_name": "LayoutModel",
          "model_module_version": "1.2.0",
          "state": {
            "_model_module": "@jupyter-widgets/base",
            "_model_module_version": "1.2.0",
            "_model_name": "LayoutModel",
            "_view_count": null,
            "_view_module": "@jupyter-widgets/base",
            "_view_module_version": "1.2.0",
            "_view_name": "LayoutView",
            "align_content": null,
            "align_items": null,
            "align_self": null,
            "border": null,
            "bottom": null,
            "display": null,
            "flex": null,
            "flex_flow": null,
            "grid_area": null,
            "grid_auto_columns": null,
            "grid_auto_flow": null,
            "grid_auto_rows": null,
            "grid_column": null,
            "grid_gap": null,
            "grid_row": null,
            "grid_template_areas": null,
            "grid_template_columns": null,
            "grid_template_rows": null,
            "height": null,
            "justify_content": null,
            "justify_items": null,
            "left": null,
            "margin": null,
            "max_height": null,
            "max_width": null,
            "min_height": null,
            "min_width": null,
            "object_fit": null,
            "object_position": null,
            "order": null,
            "overflow": null,
            "overflow_x": null,
            "overflow_y": null,
            "padding": null,
            "right": null,
            "top": null,
            "visibility": null,
            "width": null
          }
        },
        "d1ea5a6ae1c2464297fea2c190d9cfcc": {
          "model_module": "@jupyter-widgets/base",
          "model_name": "LayoutModel",
          "model_module_version": "1.2.0",
          "state": {
            "_model_module": "@jupyter-widgets/base",
            "_model_module_version": "1.2.0",
            "_model_name": "LayoutModel",
            "_view_count": null,
            "_view_module": "@jupyter-widgets/base",
            "_view_module_version": "1.2.0",
            "_view_name": "LayoutView",
            "align_content": null,
            "align_items": null,
            "align_self": null,
            "border": null,
            "bottom": null,
            "display": null,
            "flex": null,
            "flex_flow": null,
            "grid_area": null,
            "grid_auto_columns": null,
            "grid_auto_flow": null,
            "grid_auto_rows": null,
            "grid_column": null,
            "grid_gap": null,
            "grid_row": null,
            "grid_template_areas": null,
            "grid_template_columns": null,
            "grid_template_rows": null,
            "height": null,
            "justify_content": null,
            "justify_items": null,
            "left": null,
            "margin": null,
            "max_height": null,
            "max_width": null,
            "min_height": null,
            "min_width": null,
            "object_fit": null,
            "object_position": null,
            "order": null,
            "overflow": null,
            "overflow_x": null,
            "overflow_y": null,
            "padding": null,
            "right": null,
            "top": null,
            "visibility": null,
            "width": null
          }
        },
        "31c3dd9169b24399bb84a67e8f07c4cf": {
          "model_module": "@jupyter-widgets/controls",
          "model_name": "DescriptionStyleModel",
          "model_module_version": "1.5.0",
          "state": {
            "_model_module": "@jupyter-widgets/controls",
            "_model_module_version": "1.5.0",
            "_model_name": "DescriptionStyleModel",
            "_view_count": null,
            "_view_module": "@jupyter-widgets/base",
            "_view_module_version": "1.2.0",
            "_view_name": "StyleView",
            "description_width": ""
          }
        },
        "29660fe6538c431ab743dcddf5265ba0": {
          "model_module": "@jupyter-widgets/base",
          "model_name": "LayoutModel",
          "model_module_version": "1.2.0",
          "state": {
            "_model_module": "@jupyter-widgets/base",
            "_model_module_version": "1.2.0",
            "_model_name": "LayoutModel",
            "_view_count": null,
            "_view_module": "@jupyter-widgets/base",
            "_view_module_version": "1.2.0",
            "_view_name": "LayoutView",
            "align_content": null,
            "align_items": null,
            "align_self": null,
            "border": null,
            "bottom": null,
            "display": null,
            "flex": null,
            "flex_flow": null,
            "grid_area": null,
            "grid_auto_columns": null,
            "grid_auto_flow": null,
            "grid_auto_rows": null,
            "grid_column": null,
            "grid_gap": null,
            "grid_row": null,
            "grid_template_areas": null,
            "grid_template_columns": null,
            "grid_template_rows": null,
            "height": null,
            "justify_content": null,
            "justify_items": null,
            "left": null,
            "margin": null,
            "max_height": null,
            "max_width": null,
            "min_height": null,
            "min_width": null,
            "object_fit": null,
            "object_position": null,
            "order": null,
            "overflow": null,
            "overflow_x": null,
            "overflow_y": null,
            "padding": null,
            "right": null,
            "top": null,
            "visibility": null,
            "width": null
          }
        },
        "3583acee78af4b7eacd647617904c6ce": {
          "model_module": "@jupyter-widgets/controls",
          "model_name": "ProgressStyleModel",
          "model_module_version": "1.5.0",
          "state": {
            "_model_module": "@jupyter-widgets/controls",
            "_model_module_version": "1.5.0",
            "_model_name": "ProgressStyleModel",
            "_view_count": null,
            "_view_module": "@jupyter-widgets/base",
            "_view_module_version": "1.2.0",
            "_view_name": "StyleView",
            "bar_color": null,
            "description_width": ""
          }
        },
        "781995fb18fd4fbda44e235011e06335": {
          "model_module": "@jupyter-widgets/base",
          "model_name": "LayoutModel",
          "model_module_version": "1.2.0",
          "state": {
            "_model_module": "@jupyter-widgets/base",
            "_model_module_version": "1.2.0",
            "_model_name": "LayoutModel",
            "_view_count": null,
            "_view_module": "@jupyter-widgets/base",
            "_view_module_version": "1.2.0",
            "_view_name": "LayoutView",
            "align_content": null,
            "align_items": null,
            "align_self": null,
            "border": null,
            "bottom": null,
            "display": null,
            "flex": null,
            "flex_flow": null,
            "grid_area": null,
            "grid_auto_columns": null,
            "grid_auto_flow": null,
            "grid_auto_rows": null,
            "grid_column": null,
            "grid_gap": null,
            "grid_row": null,
            "grid_template_areas": null,
            "grid_template_columns": null,
            "grid_template_rows": null,
            "height": null,
            "justify_content": null,
            "justify_items": null,
            "left": null,
            "margin": null,
            "max_height": null,
            "max_width": null,
            "min_height": null,
            "min_width": null,
            "object_fit": null,
            "object_position": null,
            "order": null,
            "overflow": null,
            "overflow_x": null,
            "overflow_y": null,
            "padding": null,
            "right": null,
            "top": null,
            "visibility": null,
            "width": null
          }
        },
        "a6f67bf3ff4b47dfafb7d3d7e610ef7d": {
          "model_module": "@jupyter-widgets/controls",
          "model_name": "DescriptionStyleModel",
          "model_module_version": "1.5.0",
          "state": {
            "_model_module": "@jupyter-widgets/controls",
            "_model_module_version": "1.5.0",
            "_model_name": "DescriptionStyleModel",
            "_view_count": null,
            "_view_module": "@jupyter-widgets/base",
            "_view_module_version": "1.2.0",
            "_view_name": "StyleView",
            "description_width": ""
          }
        }
      }
    }
  },
  "nbformat": 4,
  "nbformat_minor": 0
}